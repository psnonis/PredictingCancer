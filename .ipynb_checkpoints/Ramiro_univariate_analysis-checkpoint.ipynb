{
 "cells": [
  {
   "cell_type": "markdown",
   "metadata": {},
   "source": [
    "## Introduction"
   ]
  },
  {
   "cell_type": "markdown",
   "metadata": {},
   "source": [
    "**To do**\n",
    "- Export to Rstudio. Final report in R markdown. \n",
    "- Add non-policy variables (share with team)\n",
    "- How different types of insurance compare to each other?.\n",
    "- Univariate analysis: take education."
   ]
  },
  {
   "cell_type": "markdown",
   "metadata": {},
   "source": [
    "### Setup and import"
   ]
  },
  {
   "cell_type": "code",
   "execution_count": 55,
   "metadata": {},
   "outputs": [],
   "source": [
    "library(dplyr)\n",
    "library(tidyr)\n",
    "library(repr)\n",
    "library(car) \n",
    "options(repr.plot.width=5, repr.plot.height=5)"
   ]
  },
  {
   "cell_type": "code",
   "execution_count": 56,
   "metadata": {},
   "outputs": [],
   "source": [
    "Cancer <- read.csv('cancer.csv', row.names = 1)"
   ]
  },
  {
   "cell_type": "code",
   "execution_count": 57,
   "metadata": {},
   "outputs": [],
   "source": [
    "Cancer <- Cancer %>% separate(Geography, c(\"County\", \"State\"), sep = \", \", remove = FALSE)\n",
    "Cancer$MedianAge[Cancer$MedianAge > 100] <- NA\n",
    "Cancer$AvgHouseholdSize[Cancer$AvgHouseholdSize < 1] <- NA\n",
    "Cancer$avgAnnCount[Cancer$avgAnnCount == 1962.667684] <- NA\n",
    "Cancer$incidenceRate <- Cancer$avgAnnCount / Cancer$popEst2015 * 100000\n",
    "bins <- seq(20000, 130000, by = 10000)\n",
    "Cancer$binnedInc2 <- cut(Cancer$medIncome, breaks = bins)"
   ]
  },
  {
   "cell_type": "markdown",
   "metadata": {},
   "source": [
    "### Explore schema"
   ]
  },
  {
   "cell_type": "code",
   "execution_count": 4,
   "metadata": {
    "collapsed": true
   },
   "outputs": [
    {
     "name": "stdout",
     "output_type": "stream",
     "text": [
      "'data.frame':\t3047 obs. of  32 variables:\n",
      " $ avgAnnCount         : num  1397 173 102 427 57 ...\n",
      " $ medIncome           : int  61898 48127 49348 44243 49955 52313 37782 40189 42579 60397 ...\n",
      " $ popEst2015          : int  260131 43269 21026 75882 10321 61023 41516 20848 13088 843954 ...\n",
      " $ povertyPercent      : num  11.2 18.6 14.6 17.1 12.5 15.6 23.2 17.8 22.3 13.1 ...\n",
      " $ binnedInc           : Factor w/ 10 levels \"(34218.1, 37413.8]\",..: 9 6 6 4 6 7 2 2 3 8 ...\n",
      " $ MedianAge           : num  39.3 33 45 42.8 48.3 45.4 42.6 51.7 49.3 35.8 ...\n",
      " $ MedianAgeMale       : num  36.9 32.2 44 42.2 47.8 43.5 42.2 50.8 48.4 34.7 ...\n",
      " $ MedianAgeFemale     : num  41.7 33.7 45.8 43.4 48.9 48 43.5 52.5 49.8 37 ...\n",
      " $ Geography           : Factor w/ 3047 levels \"Abbeville County, South Carolina\",..: 1459 1460 1464 1589 1618 1766 2051 2112 2143 2185 ...\n",
      " $ County              : chr  \"Kitsap County\" \"Kittitas County\" \"Klickitat County\" \"Lewis County\" ...\n",
      " $ State               : chr  \"Washington\" \"Washington\" \"Washington\" \"Washington\" ...\n",
      " $ AvgHouseholdSize    : num  2.54 2.34 2.62 2.52 2.34 2.58 2.42 2.24 2.38 2.65 ...\n",
      " $ PercentMarried      : num  52.5 44.5 54.2 52.7 57.8 50.4 54.1 52.7 55.9 50 ...\n",
      " $ PctNoHS18_24        : num  11.5 6.1 24 20.2 14.9 29.9 26.1 27.3 34.7 15.6 ...\n",
      " $ PctHS18_24          : num  39.5 22.4 36.6 41.2 43 35.1 41.4 33.9 39.4 36.3 ...\n",
      " $ PctSomeCol18_24     : num  42.1 64 NA 36.1 40 NA NA 36.5 NA NA ...\n",
      " $ PctBachDeg18_24     : num  6.9 7.5 9.5 2.5 2 4.5 5.8 2.2 1.4 7.1 ...\n",
      " $ PctHS25_Over        : num  23.2 26 29 31.6 33.4 30.4 29.8 31.6 32.2 28.8 ...\n",
      " $ PctBachDeg25_Over   : num  19.6 22.7 16 9.3 15 11.9 11.9 11.3 12 16.2 ...\n",
      " $ PctEmployed16_Over  : num  51.9 55.9 45.9 48.3 48.2 44.1 51.8 40.9 39.5 56.6 ...\n",
      " $ PctUnemployed16_Over: num  8 7.8 7 12.1 4.8 12.9 8.9 8.9 10.3 9.2 ...\n",
      " $ PctPrivateCoverage  : num  75.1 70.2 63.7 58.4 61.6 60 49.5 55.8 55.5 69.9 ...\n",
      " $ PctEmpPrivCoverage  : num  41.6 43.6 34.9 35 35.1 32.6 28.3 25.9 29.9 44.4 ...\n",
      " $ PctPublicCoverage   : num  32.9 31.1 42.1 45.3 44 43.2 46.4 50.9 48.1 31.4 ...\n",
      " $ PctWhite            : num  81.8 89.2 90.9 91.7 94.1 ...\n",
      " $ PctBlack            : num  2.595 0.969 0.74 0.783 0.27 ...\n",
      " $ PctAsian            : num  4.822 2.246 0.466 1.161 0.666 ...\n",
      " $ PctOtherRace        : num  1.843 3.741 2.747 1.363 0.492 ...\n",
      " $ PctMarriedHouseholds: num  52.9 45.4 54.4 51 54 ...\n",
      " $ BirthRate           : num  6.12 4.33 3.73 4.6 6.8 ...\n",
      " $ deathRate           : num  165 161 175 195 144 ...\n",
      " $ incidenceRate       : num  537 400 485 563 552 ...\n"
     ]
    }
   ],
   "source": [
    "str(Cancer)"
   ]
  },
  {
   "cell_type": "code",
   "execution_count": 5,
   "metadata": {
    "collapsed": true
   },
   "outputs": [
    {
     "data": {
      "text/plain": [
       "  avgAnnCount      medIncome        popEst2015       povertyPercent \n",
       " Min.   :    6   Min.   : 22640   Min.   :     827   Min.   : 3.20  \n",
       " 1st Qu.:   71   1st Qu.: 38883   1st Qu.:   11684   1st Qu.:12.15  \n",
       " Median :  153   Median : 45207   Median :   26643   Median :15.90  \n",
       " Mean   :  508   Mean   : 47063   Mean   :  102637   Mean   :16.88  \n",
       " 3rd Qu.:  396   3rd Qu.: 52492   3rd Qu.:   68671   3rd Qu.:20.40  \n",
       " Max.   :38150   Max.   :125635   Max.   :10170292   Max.   :47.40  \n",
       " NA's   :206                                                        \n",
       "              binnedInc      MedianAge     MedianAgeMale   MedianAgeFemale\n",
       " (45201, 48021.6]  : 306   Min.   :22.30   Min.   :22.40   Min.   :22.30  \n",
       " (54545.6, 61494.5]: 306   1st Qu.:37.70   1st Qu.:36.35   1st Qu.:39.10  \n",
       " [22640, 34218.1]  : 306   Median :40.90   Median :39.60   Median :42.40  \n",
       " (42724.4, 45201]  : 305   Mean   :40.82   Mean   :39.57   Mean   :42.15  \n",
       " (48021.6, 51046.4]: 305   3rd Qu.:43.80   3rd Qu.:42.50   3rd Qu.:45.30  \n",
       " (51046.4, 54545.6]: 305   Max.   :65.30   Max.   :64.70   Max.   :65.70  \n",
       " (Other)           :1214   NA's   :30                                     \n",
       "                            Geography       County             State          \n",
       " Abbeville County, South Carolina:   1   Length:3047        Length:3047       \n",
       " Acadia Parish, Louisiana        :   1   Class :character   Class :character  \n",
       " Accomack County, Virginia       :   1   Mode  :character   Mode  :character  \n",
       " Ada County, Idaho               :   1                                        \n",
       " Adair County, Iowa              :   1                                        \n",
       " Adair County, Kentucky          :   1                                        \n",
       " (Other)                         :3041                                        \n",
       " AvgHouseholdSize PercentMarried   PctNoHS18_24     PctHS18_24  \n",
       " Min.   :1.86     Min.   :23.10   Min.   : 0.00   Min.   : 0.0  \n",
       " 1st Qu.:2.37     1st Qu.:47.75   1st Qu.:12.80   1st Qu.:29.2  \n",
       " Median :2.50     Median :52.40   Median :17.10   Median :34.7  \n",
       " Mean   :2.53     Mean   :51.77   Mean   :18.22   Mean   :35.0  \n",
       " 3rd Qu.:2.64     3rd Qu.:56.40   3rd Qu.:22.70   3rd Qu.:40.7  \n",
       " Max.   :3.97     Max.   :72.50   Max.   :64.10   Max.   :72.5  \n",
       " NA's   :61                                                     \n",
       " PctSomeCol18_24 PctBachDeg18_24   PctHS25_Over   PctBachDeg25_Over\n",
       " Min.   : 7.10   Min.   : 0.000   Min.   : 7.50   Min.   : 2.50    \n",
       " 1st Qu.:34.00   1st Qu.: 3.100   1st Qu.:30.40   1st Qu.: 9.40    \n",
       " Median :40.40   Median : 5.400   Median :35.30   Median :12.30    \n",
       " Mean   :40.98   Mean   : 6.158   Mean   :34.80   Mean   :13.28    \n",
       " 3rd Qu.:46.40   3rd Qu.: 8.200   3rd Qu.:39.65   3rd Qu.:16.10    \n",
       " Max.   :79.00   Max.   :51.800   Max.   :54.80   Max.   :42.20    \n",
       " NA's   :2285                                                      \n",
       " PctEmployed16_Over PctUnemployed16_Over PctPrivateCoverage PctEmpPrivCoverage\n",
       " Min.   :17.60      Min.   : 0.400       Min.   :22.30      Min.   :13.5      \n",
       " 1st Qu.:48.60      1st Qu.: 5.500       1st Qu.:57.20      1st Qu.:34.5      \n",
       " Median :54.50      Median : 7.600       Median :65.10      Median :41.1      \n",
       " Mean   :54.15      Mean   : 7.852       Mean   :64.35      Mean   :41.2      \n",
       " 3rd Qu.:60.30      3rd Qu.: 9.700       3rd Qu.:72.10      3rd Qu.:47.7      \n",
       " Max.   :80.10      Max.   :29.400       Max.   :92.30      Max.   :70.7      \n",
       " NA's   :152                                                                  \n",
       " PctPublicCoverage    PctWhite         PctBlack          PctAsian      \n",
       " Min.   :11.20     Min.   : 10.20   Min.   : 0.0000   Min.   : 0.0000  \n",
       " 1st Qu.:30.90     1st Qu.: 77.30   1st Qu.: 0.6207   1st Qu.: 0.2542  \n",
       " Median :36.30     Median : 90.06   Median : 2.2476   Median : 0.5498  \n",
       " Mean   :36.25     Mean   : 83.65   Mean   : 9.1080   Mean   : 1.2540  \n",
       " 3rd Qu.:41.55     3rd Qu.: 95.45   3rd Qu.:10.5097   3rd Qu.: 1.2210  \n",
       " Max.   :65.10     Max.   :100.00   Max.   :85.9478   Max.   :42.6194  \n",
       "                                                                       \n",
       "  PctOtherRace     PctMarriedHouseholds   BirthRate        deathRate    \n",
       " Min.   : 0.0000   Min.   :22.99        Min.   : 0.000   Min.   : 59.7  \n",
       " 1st Qu.: 0.2952   1st Qu.:47.76        1st Qu.: 4.521   1st Qu.:161.2  \n",
       " Median : 0.8262   Median :51.67        Median : 5.381   Median :178.1  \n",
       " Mean   : 1.9835   Mean   :51.24        Mean   : 5.640   Mean   :178.7  \n",
       " 3rd Qu.: 2.1780   3rd Qu.:55.40        3rd Qu.: 6.494   3rd Qu.:195.2  \n",
       " Max.   :41.9303   Max.   :78.08        Max.   :21.326   Max.   :362.8  \n",
       "                                                                        \n",
       " incidenceRate   \n",
       " Min.   : 140.3  \n",
       " 1st Qu.: 474.7  \n",
       " Median : 553.2  \n",
       " Mean   : 550.7  \n",
       " 3rd Qu.: 628.3  \n",
       " Max.   :1404.8  \n",
       " NA's   :206     "
      ]
     },
     "metadata": {},
     "output_type": "display_data"
    }
   ],
   "source": [
    "summary(Cancer)"
   ]
  },
  {
   "cell_type": "markdown",
   "metadata": {},
   "source": [
    "## Key variables"
   ]
  },
  {
   "cell_type": "markdown",
   "metadata": {},
   "source": [
    "### Death rate"
   ]
  },
  {
   "cell_type": "code",
   "execution_count": 50,
   "metadata": {
    "scrolled": true
   },
   "outputs": [
    {
     "data": {
      "text/plain": [
       "   Min. 1st Qu.  Median    Mean 3rd Qu.    Max. \n",
       "   59.7   161.2   178.1   178.7   195.2   362.8 "
      ]
     },
     "metadata": {},
     "output_type": "display_data"
    }
   ],
   "source": [
    "summary(Cancer$deathRate)"
   ]
  },
  {
   "cell_type": "code",
   "execution_count": 88,
   "metadata": {
    "scrolled": true
   },
   "outputs": [
    {
     "data": {
      "text/plain": [
       "\n",
       "  1   2   3   4   5   6   7   8   9  10  11 \n",
       "328 238 158 112  88  66  36  16   6   4   1 "
      ]
     },
     "metadata": {},
     "output_type": "display_data"
    }
   ],
   "source": [
    "table(data.frame(table(Cancer$deathRate))$Freq)"
   ]
  },
  {
   "cell_type": "code",
   "execution_count": 80,
   "metadata": {},
   "outputs": [
    {
     "data": {
      "image/png": "[encoded data removed]",
      "text/plain": [
       "Plot with title \"Histogram of Cancer$deathRate\""
      ]
     },
     "metadata": {},
     "output_type": "display_data"
    }
   ],
   "source": [
    "hist(Cancer$deathRate, col = 'gray')"
   ]
  },
  {
   "cell_type": "code",
   "execution_count": 72,
   "metadata": {},
   "outputs": [
    {
     "data": {
      "image/png": "[encoded data removed]",
      "text/plain": [
       "plot without title"
      ]
     },
     "metadata": {},
     "output_type": "display_data"
    }
   ],
   "source": [
    "boxplot(Cancer$deathRate, col = \"gray\")"
   ]
  },
  {
   "cell_type": "markdown",
   "metadata": {},
   "source": [
    "Outliers"
   ]
  },
  {
   "cell_type": "code",
   "execution_count": 79,
   "metadata": {},
   "outputs": [
    {
     "name": "stdout",
     "output_type": "stream",
     "text": [
      "[1] \"Outliers: 64\"\n",
      "[1] \"Outliers (% of total): 2.10042664916311\"\n"
     ]
    }
   ],
   "source": [
    "print(paste(\"Outliers:\", length(boxplot.stats(Cancer$deathRate)$out)))\n",
    "print(paste(\"Outliers (% of total):\", (length(boxplot.stats(Cancer$deathRate)$out) / nrow(Cancer)) * 100))"
   ]
  },
  {
   "cell_type": "markdown",
   "metadata": {},
   "source": [
    "### Incidence rate"
   ]
  },
  {
   "cell_type": "code",
   "execution_count": 90,
   "metadata": {},
   "outputs": [
    {
     "data": {
      "text/plain": [
       "   Min. 1st Qu.  Median    Mean 3rd Qu.    Max.    NA's \n",
       "  140.3   474.7   553.2   550.7   628.3  1404.8     206 "
      ]
     },
     "metadata": {},
     "output_type": "display_data"
    }
   ],
   "source": [
    "summary(Cancer$incidenceRate)"
   ]
  },
  {
   "cell_type": "code",
   "execution_count": 103,
   "metadata": {},
   "outputs": [
    {
     "data": {
      "text/plain": [
       "\n",
       "   1    2 \n",
       "2821   10 "
      ]
     },
     "metadata": {},
     "output_type": "display_data"
    }
   ],
   "source": [
    "table(data.frame(table(Cancer$incidenceRate))$Freq)"
   ]
  },
  {
   "cell_type": "code",
   "execution_count": 94,
   "metadata": {},
   "outputs": [
    {
     "data": {
      "image/png": "[encoded data removed]",
      "text/plain": [
       "Plot with title \"Histogram of Cancer$incidenceRate\""
      ]
     },
     "metadata": {},
     "output_type": "display_data"
    }
   ],
   "source": [
    "hist(Cancer$incidenceRate)"
   ]
  },
  {
   "cell_type": "code",
   "execution_count": 95,
   "metadata": {},
   "outputs": [
    {
     "data": {
      "image/png": "[encoded data removed]",
      "text/plain": [
       "plot without title"
      ]
     },
     "metadata": {},
     "output_type": "display_data"
    }
   ],
   "source": [
    "boxplot(Cancer$incidenceRate)"
   ]
  },
  {
   "cell_type": "markdown",
   "metadata": {},
   "source": [
    "Outliers"
   ]
  },
  {
   "cell_type": "code",
   "execution_count": 96,
   "metadata": {},
   "outputs": [
    {
     "name": "stdout",
     "output_type": "stream",
     "text": [
      "[1] \"Outliers: 46\"\n",
      "[1] \"Outliers (% of total): 1.50968165408599\"\n"
     ]
    }
   ],
   "source": [
    "print(paste(\"Outliers:\", length(boxplot.stats(Cancer$incidenceRate)$out)))\n",
    "print(paste(\"Outliers (% of total):\", (length(boxplot.stats(Cancer$incidenceRate)$out) / nrow(Cancer)) * 100))"
   ]
  },
  {
   "cell_type": "markdown",
   "metadata": {},
   "source": [
    "### Median income"
   ]
  },
  {
   "cell_type": "code",
   "execution_count": 17,
   "metadata": {},
   "outputs": [
    {
     "data": {
      "text/plain": [
       "   Min. 1st Qu.  Median    Mean 3rd Qu.    Max. \n",
       "  22640   38883   45207   47063   52492  125635 "
      ]
     },
     "metadata": {},
     "output_type": "display_data"
    }
   ],
   "source": [
    "summary(Cancer$medIncome)"
   ]
  },
  {
   "cell_type": "code",
   "execution_count": 18,
   "metadata": {},
   "outputs": [
    {
     "data": {
      "image/png": "[encoded data removed]",
      "text/plain": [
       "Plot with title \"Histogram of Cancer$medIncome\""
      ]
     },
     "metadata": {},
     "output_type": "display_data"
    }
   ],
   "source": [
    "hist(Cancer$medIncome, col = 'gray')"
   ]
  },
  {
   "cell_type": "code",
   "execution_count": 19,
   "metadata": {
    "scrolled": false
   },
   "outputs": [
    {
     "data": {
      "image/png": "[encoded data removed]",
      "text/plain": [
       "plot without title"
      ]
     },
     "metadata": {},
     "output_type": "display_data"
    }
   ],
   "source": [
    "boxplot(Cancer$medIncome, col = \"gray\")"
   ]
  },
  {
   "cell_type": "markdown",
   "metadata": {},
   "source": [
    "Outliers"
   ]
  },
  {
   "cell_type": "code",
   "execution_count": 20,
   "metadata": {},
   "outputs": [
    {
     "name": "stdout",
     "output_type": "stream",
     "text": [
      "[1] \"Outliers: 122\"\n",
      "[1] \"Outliers (% of total): 4.00393829996718\"\n"
     ]
    }
   ],
   "source": [
    "print(paste(\"Outliers:\", length(boxplot.stats(Cancer$medIncome)$out)))\n",
    "print(paste(\"Outliers (% of total):\", (length(boxplot.stats(Cancer$medIncome)$out) / nrow(Cancer)) * 100))"
   ]
  },
  {
   "cell_type": "markdown",
   "metadata": {},
   "source": [
    "Who are the outliers?"
   ]
  },
  {
   "cell_type": "code",
   "execution_count": 21,
   "metadata": {
    "collapsed": true
   },
   "outputs": [
    {
     "data": {
      "text/plain": [
       "  avgAnnCount      medIncome        popEst2015      povertyPercent  \n",
       " Min.   :   19   Min.   : 72972   Min.   :   5903   Min.   : 3.200  \n",
       " 1st Qu.:  249   1st Qu.: 76072   1st Qu.:  64922   1st Qu.: 6.100  \n",
       " Median :  855   Median : 80555   Median : 185460   Median : 7.200  \n",
       " Mean   : 1869   Mean   : 83772   Mean   : 388106   Mean   : 7.517  \n",
       " 3rd Qu.: 2768   3rd Qu.: 87091   3rd Qu.: 507672   3rd Qu.: 8.450  \n",
       " Max.   :12694   Max.   :125635   Max.   :3169776   Max.   :17.700  \n",
       " NA's   :9                                                          \n",
       "              binnedInc     MedianAge     MedianAgeMale   MedianAgeFemale\n",
       " (61494.5, 125635] :122   Min.   :32.10   Min.   :31.10   Min.   :28.70  \n",
       " (34218.1, 37413.8]:  0   1st Qu.:36.60   1st Qu.:35.90   1st Qu.:37.42  \n",
       " (37413.8, 40362.7]:  0   Median :38.40   Median :37.30   Median :39.65  \n",
       " (40362.7, 42724.4]:  0   Mean   :38.81   Mean   :37.83   Mean   :39.70  \n",
       " (42724.4, 45201]  :  0   3rd Qu.:41.25   3rd Qu.:39.77   3rd Qu.:42.58  \n",
       " (45201, 48021.6]  :  0   Max.   :47.20   Max.   :46.10   Max.   :48.40  \n",
       " (Other)           :  0                                                  \n",
       "                          Geography      County             State          \n",
       " Alameda County, California    :  1   Length:122         Length:122        \n",
       " Alexandria city, Virginia     :  1   Class :character   Class :character  \n",
       " Anchorage Municipality, Alaska:  1   Mode  :character   Mode  :character  \n",
       " Anne Arundel County, Maryland :  1                                        \n",
       " Arlington County, Virginia    :  1                                        \n",
       " Bergen County, New Jersey     :  1                                        \n",
       " (Other)                       :116                                        \n",
       " AvgHouseholdSize PercentMarried   PctNoHS18_24     PctHS18_24   \n",
       " Min.   :2.090    Min.   :32.90   Min.   : 4.10   Min.   :17.50  \n",
       " 1st Qu.:2.623    1st Qu.:51.73   1st Qu.:10.90   1st Qu.:26.52  \n",
       " Median :2.735    Median :55.70   Median :12.80   Median :29.15  \n",
       " Mean   :2.739    Mean   :55.28   Mean   :13.48   Mean   :30.31  \n",
       " 3rd Qu.:2.850    3rd Qu.:59.35   3rd Qu.:15.57   3rd Qu.:33.55  \n",
       " Max.   :3.400    Max.   :69.20   Max.   :30.20   Max.   :52.00  \n",
       "                                                                 \n",
       " PctSomeCol18_24 PctBachDeg18_24   PctHS25_Over   PctBachDeg25_Over\n",
       " Min.   :34.10   Min.   : 0.900   Min.   : 7.50   Min.   : 4.70    \n",
       " 1st Qu.:41.50   1st Qu.: 9.425   1st Qu.:19.45   1st Qu.:20.82    \n",
       " Median :43.00   Median :12.550   Median :24.10   Median :24.15    \n",
       " Mean   :43.77   Mean   :13.475   Mean   :23.50   Mean   :24.57    \n",
       " 3rd Qu.:47.20   3rd Qu.:16.500   3rd Qu.:27.68   3rd Qu.:28.25    \n",
       " Max.   :54.80   Max.   :51.800   Max.   :37.50   Max.   :42.20    \n",
       " NA's   :97                                                        \n",
       " PctEmployed16_Over PctUnemployed16_Over PctPrivateCoverage PctEmpPrivCoverage\n",
       " Min.   :53.90      Min.   : 1.700       Min.   :63.30      Min.   :41.60     \n",
       " 1st Qu.:61.38      1st Qu.: 4.600       1st Qu.:75.85      1st Qu.:54.12     \n",
       " Median :64.20      Median : 5.850       Median :80.70      Median :57.95     \n",
       " Mean   :64.84      Mean   : 5.897       Mean   :79.35      Mean   :57.71     \n",
       " 3rd Qu.:68.10      3rd Qu.: 7.000       3rd Qu.:83.47      3rd Qu.:62.55     \n",
       " Max.   :76.50      Max.   :12.000       Max.   :92.30      Max.   :70.70     \n",
       " NA's   :6                                                                    \n",
       " PctPublicCoverage    PctWhite        PctBlack         PctAsian      \n",
       " Min.   :11.80     Min.   :21.73   Min.   : 0.000   Min.   : 0.2201  \n",
       " 1st Qu.:19.62     1st Qu.:72.25   1st Qu.: 1.377   1st Qu.: 1.5087  \n",
       " Median :22.75     Median :83.72   Median : 4.489   Median : 3.7051  \n",
       " Mean   :22.69     Mean   :79.88   Mean   : 6.756   Mean   : 6.1824  \n",
       " 3rd Qu.:25.60     3rd Qu.:90.29   3rd Qu.: 9.739   3rd Qu.: 6.8048  \n",
       " Max.   :36.00     Max.   :97.72   Max.   :42.246   Max.   :42.6194  \n",
       "                                                                     \n",
       "  PctOtherRace     PctMarriedHouseholds   BirthRate        deathRate    \n",
       " Min.   : 0.0328   Min.   :26.67        Min.   : 1.745   Min.   : 59.7  \n",
       " 1st Qu.: 0.7521   1st Qu.:53.69        1st Qu.: 4.456   1st Qu.:142.2  \n",
       " Median : 1.7259   Median :58.04        Median : 5.008   Median :153.3  \n",
       " Mean   : 2.6989   Mean   :57.46        Mean   : 5.171   Mean   :154.1  \n",
       " 3rd Qu.: 3.6079   3rd Qu.:62.18        3rd Qu.: 5.539   3rd Qu.:166.0  \n",
       " Max.   :12.3813   Max.   :78.08        Max.   :11.632   Max.   :256.9  \n",
       "                                                                        \n",
       " incidenceRate               binnedInc2\n",
       " Min.   :148.1   (7e+04,8e+04]    :58  \n",
       " 1st Qu.:359.8   (8e+04,9e+04]    :38  \n",
       " Median :438.5   (9e+04,1e+05]    :15  \n",
       " Mean   :444.5   (1e+05,1.1e+05]  : 8  \n",
       " 3rd Qu.:537.7   (1.2e+05,1.3e+05]: 2  \n",
       " Max.   :648.1   (1.1e+05,1.2e+05]: 1  \n",
       " NA's   :9       (Other)          : 0  "
      ]
     },
     "metadata": {},
     "output_type": "display_data"
    }
   ],
   "source": [
    "summary(tail(Cancer[order(Cancer$medIncome), ], 122))"
   ]
  },
  {
   "cell_type": "markdown",
   "metadata": {},
   "source": [
    "### Income binned"
   ]
  },
  {
   "cell_type": "code",
   "execution_count": 6,
   "metadata": {
    "scrolled": true
   },
   "outputs": [
    {
     "data": {
      "text/html": [
       "<dl class=dl-horizontal>\n",
       "\t<dt>(34218.1, 37413.8]</dt>\n",
       "\t\t<dd>304</dd>\n",
       "\t<dt>(37413.8, 40362.7]</dt>\n",
       "\t\t<dd>304</dd>\n",
       "\t<dt>(40362.7, 42724.4]</dt>\n",
       "\t\t<dd>304</dd>\n",
       "\t<dt>(42724.4, 45201]</dt>\n",
       "\t\t<dd>305</dd>\n",
       "\t<dt>(45201, 48021.6]</dt>\n",
       "\t\t<dd>306</dd>\n",
       "\t<dt>(48021.6, 51046.4]</dt>\n",
       "\t\t<dd>305</dd>\n",
       "\t<dt>(51046.4, 54545.6]</dt>\n",
       "\t\t<dd>305</dd>\n",
       "\t<dt>(54545.6, 61494.5]</dt>\n",
       "\t\t<dd>306</dd>\n",
       "\t<dt>(61494.5, 125635]</dt>\n",
       "\t\t<dd>302</dd>\n",
       "\t<dt>[22640, 34218.1]</dt>\n",
       "\t\t<dd>306</dd>\n",
       "</dl>\n"
      ],
      "text/latex": [
       "\\begin{description*}\n",
       "\\item[(34218.1, 37413.8\\{{]}\\}] 304\n",
       "\\item[(37413.8, 40362.7\\{{]}\\}] 304\n",
       "\\item[(40362.7, 42724.4\\{{]}\\}] 304\n",
       "\\item[(42724.4, 45201\\{{]}\\}] 305\n",
       "\\item[(45201, 48021.6\\{{]}\\}] 306\n",
       "\\item[(48021.6, 51046.4\\{{]}\\}] 305\n",
       "\\item[(51046.4, 54545.6\\{{]}\\}] 305\n",
       "\\item[(54545.6, 61494.5\\{{]}\\}] 306\n",
       "\\item[(61494.5, 125635\\{{]}\\}] 302\n",
       "\\item[\\{{[}\\}22640, 34218.1\\{{]}\\}] 306\n",
       "\\end{description*}\n"
      ],
      "text/markdown": [
       "(34218.1, 37413.8]\n",
       ":   304(37413.8, 40362.7]\n",
       ":   304(40362.7, 42724.4]\n",
       ":   304(42724.4, 45201]\n",
       ":   305(45201, 48021.6]\n",
       ":   306(48021.6, 51046.4]\n",
       ":   305(51046.4, 54545.6]\n",
       ":   305(54545.6, 61494.5]\n",
       ":   306(61494.5, 125635]\n",
       ":   302[22640, 34218.1]\n",
       ":   306\n",
       "\n"
      ],
      "text/plain": [
       "(34218.1, 37413.8] (37413.8, 40362.7] (40362.7, 42724.4]   (42724.4, 45201] \n",
       "               304                304                304                305 \n",
       "  (45201, 48021.6] (48021.6, 51046.4] (51046.4, 54545.6] (54545.6, 61494.5] \n",
       "               306                305                305                306 \n",
       " (61494.5, 125635]   [22640, 34218.1] \n",
       "               302                306 "
      ]
     },
     "metadata": {},
     "output_type": "display_data"
    }
   ],
   "source": [
    "summary(Cancer$binnedInc)"
   ]
  },
  {
   "cell_type": "code",
   "execution_count": 14,
   "metadata": {},
   "outputs": [
    {
     "data": {
      "text/html": [
       "306"
      ],
      "text/latex": [
       "306"
      ],
      "text/markdown": [
       "306"
      ],
      "text/plain": [
       "[1] 306"
      ]
     },
     "metadata": {},
     "output_type": "display_data"
    }
   ],
   "source": [
    "nrow(Cancer[54545.6 < Cancer$medIncome & Cancer$medIncome <= 61494.5, ])"
   ]
  },
  {
   "cell_type": "markdown",
   "metadata": {},
   "source": [
    "binnedInc was indeed built using medianInc. But The size of these beans make every bin of similar size which is not useful to see its distribution, and the cutoffs make the charts hard to read."
   ]
  },
  {
   "cell_type": "markdown",
   "metadata": {},
   "source": [
    "New binned variable"
   ]
  },
  {
   "cell_type": "code",
   "execution_count": 22,
   "metadata": {},
   "outputs": [
    {
     "data": {
      "image/png": "[encoded data removed]",
      "text/plain": [
       "plot without title"
      ]
     },
     "metadata": {},
     "output_type": "display_data"
    }
   ],
   "source": [
    "plot(Cancer$binnedInc2)"
   ]
  },
  {
   "cell_type": "markdown",
   "metadata": {},
   "source": [
    "### Poverty percent"
   ]
  },
  {
   "cell_type": "code",
   "execution_count": 23,
   "metadata": {},
   "outputs": [
    {
     "data": {
      "text/plain": [
       "   Min. 1st Qu.  Median    Mean 3rd Qu.    Max. \n",
       "   3.20   12.15   15.90   16.88   20.40   47.40 "
      ]
     },
     "metadata": {},
     "output_type": "display_data"
    }
   ],
   "source": [
    "summary(Cancer$povertyPercent)"
   ]
  },
  {
   "cell_type": "code",
   "execution_count": 24,
   "metadata": {},
   "outputs": [
    {
     "data": {
      "image/png": "[encoded data removed]",
      "text/plain": [
       "Plot with title \"Histogram of Cancer$povertyPercent\""
      ]
     },
     "metadata": {},
     "output_type": "display_data"
    }
   ],
   "source": [
    "hist(Cancer$povertyPercent, col = 'gray')"
   ]
  },
  {
   "cell_type": "code",
   "execution_count": 25,
   "metadata": {
    "scrolled": false
   },
   "outputs": [
    {
     "data": {
      "image/png": "[encoded data removed]",
      "text/plain": [
       "plot without title"
      ]
     },
     "metadata": {},
     "output_type": "display_data"
    }
   ],
   "source": [
    "boxplot(Cancer$povertyPercent, col = \"gray\")"
   ]
  },
  {
   "cell_type": "markdown",
   "metadata": {},
   "source": [
    "Outliers"
   ]
  },
  {
   "cell_type": "code",
   "execution_count": 26,
   "metadata": {},
   "outputs": [
    {
     "name": "stdout",
     "output_type": "stream",
     "text": [
      "[1] \"Outliers: 69\"\n",
      "[1] \"Outliers (% of total): 2.26452248112898\"\n"
     ]
    }
   ],
   "source": [
    "print(paste(\"Outliers:\", length(boxplot.stats(Cancer$povertyPercent)$out)))\n",
    "print(paste(\"Outliers (% of total):\", (length(boxplot.stats(Cancer$povertyPercent)$out) / nrow(Cancer)) * 100))"
   ]
  },
  {
   "cell_type": "markdown",
   "metadata": {},
   "source": [
    "### Private coverage"
   ]
  },
  {
   "cell_type": "code",
   "execution_count": 27,
   "metadata": {
    "scrolled": true
   },
   "outputs": [
    {
     "data": {
      "text/plain": [
       "   Min. 1st Qu.  Median    Mean 3rd Qu.    Max. \n",
       "  22.30   57.20   65.10   64.35   72.10   92.30 "
      ]
     },
     "metadata": {},
     "output_type": "display_data"
    }
   ],
   "source": [
    "summary(Cancer$PctPrivateCoverage)"
   ]
  },
  {
   "cell_type": "code",
   "execution_count": 28,
   "metadata": {
    "scrolled": true
   },
   "outputs": [
    {
     "data": {
      "image/png": "[encoded data removed]",
      "text/plain": [
       "Plot with title \"Histogram of Cancer$PctPrivateCoverage\""
      ]
     },
     "metadata": {},
     "output_type": "display_data"
    }
   ],
   "source": [
    "hist(Cancer$PctPrivateCoverage, col = 'gray')"
   ]
  },
  {
   "cell_type": "code",
   "execution_count": 29,
   "metadata": {
    "scrolled": true
   },
   "outputs": [
    {
     "data": {
      "image/png": "[encoded data removed]",
      "text/plain": [
       "plot without title"
      ]
     },
     "metadata": {},
     "output_type": "display_data"
    }
   ],
   "source": [
    "boxplot(Cancer$PctPrivateCoverage, col = \"gray\")"
   ]
  },
  {
   "cell_type": "markdown",
   "metadata": {},
   "source": [
    "### PctEmpPrivCoverage"
   ]
  },
  {
   "cell_type": "code",
   "execution_count": 30,
   "metadata": {},
   "outputs": [
    {
     "data": {
      "text/plain": [
       "   Min. 1st Qu.  Median    Mean 3rd Qu.    Max. \n",
       "   13.5    34.5    41.1    41.2    47.7    70.7 "
      ]
     },
     "metadata": {},
     "output_type": "display_data"
    }
   ],
   "source": [
    "summary(Cancer$PctEmpPrivCoverage)"
   ]
  },
  {
   "cell_type": "code",
   "execution_count": 31,
   "metadata": {
    "scrolled": true
   },
   "outputs": [
    {
     "data": {
      "image/png": "[encoded data removed]",
      "text/plain": [
       "Plot with title \"Histogram of Cancer$PctEmpPrivCoverage\""
      ]
     },
     "metadata": {},
     "output_type": "display_data"
    }
   ],
   "source": [
    "hist(Cancer$PctEmpPrivCoverage, col = 'gray')"
   ]
  },
  {
   "cell_type": "code",
   "execution_count": 32,
   "metadata": {
    "scrolled": true
   },
   "outputs": [
    {
     "data": {
      "image/png": "[encoded data removed]",
      "text/plain": [
       "plot without title"
      ]
     },
     "metadata": {},
     "output_type": "display_data"
    }
   ],
   "source": [
    "boxplot(Cancer$PctEmpPrivCoverage, col = \"gray\")"
   ]
  },
  {
   "cell_type": "markdown",
   "metadata": {},
   "source": [
    "Outliers"
   ]
  },
  {
   "cell_type": "code",
   "execution_count": 33,
   "metadata": {},
   "outputs": [
    {
     "name": "stdout",
     "output_type": "stream",
     "text": [
      "[1] \"Outliers: 9\"\n",
      "[1] \"Outliers (% of total): 0.295372497538563\"\n"
     ]
    }
   ],
   "source": [
    "print(paste(\"Outliers:\", length(boxplot.stats(Cancer$PctEmpPrivCoverage)$out)))\n",
    "print(paste(\"Outliers (% of total):\", (length(boxplot.stats(Cancer$PctEmpPrivCoverage)$out) / nrow(Cancer)) * 100))"
   ]
  },
  {
   "cell_type": "markdown",
   "metadata": {},
   "source": [
    "### Public coverage"
   ]
  },
  {
   "cell_type": "code",
   "execution_count": 34,
   "metadata": {
    "scrolled": true
   },
   "outputs": [
    {
     "data": {
      "text/plain": [
       "   Min. 1st Qu.  Median    Mean 3rd Qu.    Max. \n",
       "  11.20   30.90   36.30   36.25   41.55   65.10 "
      ]
     },
     "metadata": {},
     "output_type": "display_data"
    }
   ],
   "source": [
    "summary(Cancer$PctPublicCoverage)"
   ]
  },
  {
   "cell_type": "code",
   "execution_count": 35,
   "metadata": {
    "scrolled": true
   },
   "outputs": [
    {
     "data": {
      "image/png": "[encoded data removed]",
      "text/plain": [
       "Plot with title \"Histogram of Cancer$PctPublicCoverage\""
      ]
     },
     "metadata": {},
     "output_type": "display_data"
    }
   ],
   "source": [
    "hist(Cancer$PctPublicCoverage, col = 'gray')"
   ]
  },
  {
   "cell_type": "code",
   "execution_count": 36,
   "metadata": {
    "scrolled": true
   },
   "outputs": [
    {
     "data": {
      "image/png": "[encoded data removed]",
      "text/plain": [
       "plot without title"
      ]
     },
     "metadata": {},
     "output_type": "display_data"
    }
   ],
   "source": [
    "boxplot(Cancer$PctPublicCoverage, col = \"gray\")"
   ]
  },
  {
   "cell_type": "markdown",
   "metadata": {},
   "source": [
    "Outliers"
   ]
  },
  {
   "cell_type": "code",
   "execution_count": 37,
   "metadata": {},
   "outputs": [
    {
     "name": "stdout",
     "output_type": "stream",
     "text": [
      "[1] \"Outliers: 18\"\n",
      "[1] \"Outliers (% of total): 0.590744995077125\"\n"
     ]
    }
   ],
   "source": [
    "print(paste(\"Outliers:\", length(boxplot.stats(Cancer$PctPublicCoverage)$out)))\n",
    "print(paste(\"Outliers (% of total):\", (length(boxplot.stats(Cancer$PctPublicCoverage)$out) / nrow(Cancer)) * 100))"
   ]
  },
  {
   "cell_type": "markdown",
   "metadata": {},
   "source": [
    "### Education"
   ]
  },
  {
   "cell_type": "markdown",
   "metadata": {},
   "source": [
    "- Focus on group over 24, since the death rate for ages < 25 is very small (20 on average), while for ages >= 25 is 1,238 on average  [source](https://www.cancerresearchuk.org/health-professional/cancer-statistics/incidence/age#heading-Zero)"
   ]
  },
  {
   "cell_type": "markdown",
   "metadata": {},
   "source": [
    "PctHS25_Over"
   ]
  },
  {
   "cell_type": "code",
   "execution_count": 96,
   "metadata": {},
   "outputs": [
    {
     "data": {
      "image/png": "[encoded data removed]",
      "text/plain": [
       "Plot with title \"Histogram of data.frame(table(Cancer$PctHS25_Over))$Freq\""
      ]
     },
     "metadata": {},
     "output_type": "display_data"
    }
   ],
   "source": [
    "hist(data.frame(table(Cancer$PctHS25_Over))$Freq, breaks = 1:30, freq = FALSE, ylim = c(0, 0.3))\n",
    "axis(side = 1, at = seq(0, 30, 5))"
   ]
  },
  {
   "cell_type": "code",
   "execution_count": 77,
   "metadata": {},
   "outputs": [
    {
     "data": {
      "text/plain": [
       "   Min. 1st Qu.  Median    Mean 3rd Qu.    Max. \n",
       "   7.50   30.40   35.30   34.80   39.65   54.80 "
      ]
     },
     "metadata": {},
     "output_type": "display_data"
    }
   ],
   "source": [
    "summary(Cancer$PctHS25_Over)"
   ]
  },
  {
   "cell_type": "code",
   "execution_count": 78,
   "metadata": {},
   "outputs": [
    {
     "data": {
      "image/png": "[encoded data removed]",
      "text/plain": [
       "Plot with title \"Histogram of Cancer$PctHS25_Over\""
      ]
     },
     "metadata": {},
     "output_type": "display_data"
    }
   ],
   "source": [
    "hist(Cancer$PctHS25_Over, col = 'gray')"
   ]
  },
  {
   "cell_type": "code",
   "execution_count": 79,
   "metadata": {
    "scrolled": false
   },
   "outputs": [
    {
     "data": {
      "image/png": "[encoded data removed]",
      "text/plain": [
       "plot without title"
      ]
     },
     "metadata": {},
     "output_type": "display_data"
    }
   ],
   "source": [
    "boxplot(Cancer$PctHS25_Over, col = \"gray\")"
   ]
  },
  {
   "cell_type": "code",
   "execution_count": 80,
   "metadata": {},
   "outputs": [
    {
     "name": "stdout",
     "output_type": "stream",
     "text": [
      "[1] \"Outliers: 31\"\n",
      "[1] \"Outliers (% of total): 1.01739415818838\"\n"
     ]
    }
   ],
   "source": [
    "print(paste(\"Outliers:\", length(boxplot.stats(Cancer$PctHS25_Over)$out)))\n",
    "print(paste(\"Outliers (% of total):\", (length(boxplot.stats(Cancer$PctHS25_Over)$out) / nrow(Cancer)) * 100))"
   ]
  },
  {
   "cell_type": "markdown",
   "metadata": {},
   "source": [
    "PctBachDeg25_Over"
   ]
  },
  {
   "cell_type": "code",
   "execution_count": 81,
   "metadata": {},
   "outputs": [
    {
     "data": {
      "text/plain": [
       "   Min. 1st Qu.  Median    Mean 3rd Qu.    Max. \n",
       "   2.50    9.40   12.30   13.28   16.10   42.20 "
      ]
     },
     "metadata": {},
     "output_type": "display_data"
    }
   ],
   "source": [
    "summary(Cancer$PctBachDeg25_Over)"
   ]
  },
  {
   "cell_type": "code",
   "execution_count": 93,
   "metadata": {},
   "outputs": [
    {
     "data": {
      "image/png": "[encoded data removed]",
      "text/plain": [
       "Plot with title \"Histogram of data.frame(table(Cancer$PctBachDeg25_Over))$Freq\""
      ]
     },
     "metadata": {},
     "output_type": "display_data"
    }
   ],
   "source": [
    "hist(data.frame(table(Cancer$PctBachDeg25_Over))$Freq, breaks = 1:40, freq = FALSE, ylim = c(0, 0.3))\n",
    "axis(side = 1, at = seq(0, 40, 5))"
   ]
  },
  {
   "cell_type": "code",
   "execution_count": 87,
   "metadata": {},
   "outputs": [
    {
     "data": {
      "image/png": "[encoded data removed]",
      "text/plain": [
       "Plot with title \"Histogram of Cancer$PctBachDeg25_Over\""
      ]
     },
     "metadata": {},
     "output_type": "display_data"
    }
   ],
   "source": [
    "hist(Cancer$PctBachDeg25_Over, col = 'gray', breaks = 0:60)"
   ]
  },
  {
   "cell_type": "code",
   "execution_count": 83,
   "metadata": {
    "scrolled": false
   },
   "outputs": [
    {
     "data": {
      "image/png": "[encoded data removed]",
      "text/plain": [
       "plot without title"
      ]
     },
     "metadata": {},
     "output_type": "display_data"
    }
   ],
   "source": [
    "boxplot(Cancer$PctBachDeg25_Over, col = \"gray\")"
   ]
  },
  {
   "cell_type": "code",
   "execution_count": 84,
   "metadata": {},
   "outputs": [
    {
     "name": "stdout",
     "output_type": "stream",
     "text": [
      "[1] \"Outliers: 82\"\n",
      "[1] \"Outliers (% of total): 2.69117164424024\"\n"
     ]
    }
   ],
   "source": [
    "print(paste(\"Outliers:\", length(boxplot.stats(Cancer$PctBachDeg25_Over)$out)))\n",
    "print(paste(\"Outliers (% of total):\", (length(boxplot.stats(Cancer$PctBachDeg25_Over)$out) / nrow(Cancer)) * 100))"
   ]
  },
  {
   "cell_type": "markdown",
   "metadata": {},
   "source": [
    "## Bivariate relationships"
   ]
  },
  {
   "cell_type": "markdown",
   "metadata": {},
   "source": [
    "### Education"
   ]
  },
  {
   "cell_type": "markdown",
   "metadata": {},
   "source": [
    "Education variables vs deathRate"
   ]
  },
  {
   "cell_type": "markdown",
   "metadata": {},
   "source": [
    "Each percentage means the percentage of the population that has MAX that level of education"
   ]
  },
  {
   "cell_type": "code",
   "execution_count": 44,
   "metadata": {},
   "outputs": [
    {
     "data": {
      "text/html": [
       "100"
      ],
      "text/latex": [
       "100"
      ],
      "text/markdown": [
       "100"
      ],
      "text/plain": [
       "[1] 100"
      ]
     },
     "metadata": {},
     "output_type": "display_data"
    }
   ],
   "source": [
    "head(sum(subset(Cancer[1, ], \n",
    "                select = c('PctNoHS18_24', 'PctHS18_24', 'PctSomeCol18_24', 'PctBachDeg18_24')), na.rm = TRUE))"
   ]
  },
  {
   "cell_type": "markdown",
   "metadata": {},
   "source": [
    "#### Correlations"
   ]
  },
  {
   "cell_type": "code",
   "execution_count": 41,
   "metadata": {},
   "outputs": [
    {
     "data": {
      "text/html": [
       "<dl class=dl-horizontal>\n",
       "\t<dt>deathRate</dt>\n",
       "\t\t<dd>1</dd>\n",
       "\t<dt>PctNoHS18_24</dt>\n",
       "\t\t<dd>0.121970300774238</dd>\n",
       "\t<dt>PctHS18_24</dt>\n",
       "\t\t<dd>0.266572986328576</dd>\n",
       "\t<dt>PctSomeCol18_24</dt>\n",
       "\t\t<dd>-0.18868766723487</dd>\n",
       "\t<dt>PctBachDeg18_24</dt>\n",
       "\t\t<dd>-0.314013044694353</dd>\n",
       "\t<dt>PctHS25_Over</dt>\n",
       "\t\t<dd>0.418241070928852</dd>\n",
       "\t<dt>PctBachDeg25_Over</dt>\n",
       "\t\t<dd>-0.471796156294171</dd>\n",
       "</dl>\n"
      ],
      "text/latex": [
       "\\begin{description*}\n",
       "\\item[deathRate] 1\n",
       "\\item[PctNoHS18\\textbackslash{}\\_24] 0.121970300774238\n",
       "\\item[PctHS18\\textbackslash{}\\_24] 0.266572986328576\n",
       "\\item[PctSomeCol18\\textbackslash{}\\_24] -0.18868766723487\n",
       "\\item[PctBachDeg18\\textbackslash{}\\_24] -0.314013044694353\n",
       "\\item[PctHS25\\textbackslash{}\\_Over] 0.418241070928852\n",
       "\\item[PctBachDeg25\\textbackslash{}\\_Over] -0.471796156294171\n",
       "\\end{description*}\n"
      ],
      "text/markdown": [
       "deathRate\n",
       ":   1PctNoHS18_24\n",
       ":   0.121970300774238PctHS18_24\n",
       ":   0.266572986328576PctSomeCol18_24\n",
       ":   -0.18868766723487PctBachDeg18_24\n",
       ":   -0.314013044694353PctHS25_Over\n",
       ":   0.418241070928852PctBachDeg25_Over\n",
       ":   -0.471796156294171\n",
       "\n"
      ],
      "text/plain": [
       "        deathRate      PctNoHS18_24        PctHS18_24   PctSomeCol18_24 \n",
       "        1.0000000         0.1219703         0.2665730        -0.1886877 \n",
       "  PctBachDeg18_24      PctHS25_Over PctBachDeg25_Over \n",
       "       -0.3140130         0.4182411        -0.4717962 "
      ]
     },
     "metadata": {},
     "output_type": "display_data"
    }
   ],
   "source": [
    "vars = c('deathRate', 'PctNoHS18_24', 'PctHS18_24', 'PctSomeCol18_24',\n",
    "         'PctBachDeg18_24', 'PctHS25_Over', 'PctBachDeg25_Over')\n",
    "cor_death_educ <- cor(subset(Cancer, select = vars), use = \"complete.obs\")\n",
    "cor_death_educ[1, ]"
   ]
  },
  {
   "cell_type": "markdown",
   "metadata": {},
   "source": [
    "- HS for all age groups: positive correlation with death rate\n",
    "    - There may be an age effect: younger counties associated both to lower education AND higher cancer death rates\n",
    "- Both PctHS25_Over and PctBachDeg25_Over have a correlations > 0.4. May be good candidates."
   ]
  },
  {
   "cell_type": "markdown",
   "metadata": {},
   "source": [
    "#### Visual exploration"
   ]
  },
  {
   "cell_type": "code",
   "execution_count": 46,
   "metadata": {
    "collapsed": true
   },
   "outputs": [
    {
     "data": {
      "image/png": "[encoded data removed]",
      "text/plain": [
       "Plot with title \"No HS (18-24)\""
      ]
     },
     "metadata": {},
     "output_type": "display_data"
    }
   ],
   "source": [
    "plot(Cancer$PctNoHS18_24, Cancer$deathRate, main = \"No HS (18-24)\")\n",
    "abline(lm(Cancer$deathRate ~ Cancer$PctNoHS18_24), lty = 'dashed', lwd = 2, col = 'red')"
   ]
  },
  {
   "cell_type": "code",
   "execution_count": 47,
   "metadata": {
    "collapsed": true
   },
   "outputs": [
    {
     "data": {
      "image/png": "[encoded data removed]",
      "text/plain": [
       "Plot with title \"HS (18-24)\""
      ]
     },
     "metadata": {},
     "output_type": "display_data"
    }
   ],
   "source": [
    "plot(Cancer$PctHS18_24, Cancer$deathRate, main = \"HS (18-24)\")\n",
    "abline(lm(Cancer$deathRate ~ Cancer$PctHS18_24), lty = 'dashed', lwd = 2, col = 'red')"
   ]
  },
  {
   "cell_type": "code",
   "execution_count": 49,
   "metadata": {
    "collapsed": true
   },
   "outputs": [
    {
     "data": {
      "image/png": "[encoded data removed]",
      "text/plain": [
       "Plot with title \"Some college (18-24)\""
      ]
     },
     "metadata": {},
     "output_type": "display_data"
    }
   ],
   "source": [
    "plot(Cancer$PctSomeCol18_24, Cancer$deathRate, main = \"Some college (18-24)\")\n",
    "abline(lm(Cancer$deathRate ~ Cancer$PctSomeCol18_24), lty = 'dashed', lwd = 2, col = 'red')"
   ]
  },
  {
   "cell_type": "code",
   "execution_count": 50,
   "metadata": {
    "collapsed": true
   },
   "outputs": [
    {
     "data": {
      "image/png": "[encoded data removed]",
      "text/plain": [
       "Plot with title \"Bachelor (18-24)\""
      ]
     },
     "metadata": {},
     "output_type": "display_data"
    }
   ],
   "source": [
    "plot(Cancer$PctBachDeg18_24, Cancer$deathRate, main = \"Bachelor (18-24)\")\n",
    "abline(lm(Cancer$deathRate ~ Cancer$PctBachDeg18_24), lty = 'dashed', lwd = 2, col = 'red')"
   ]
  },
  {
   "cell_type": "code",
   "execution_count": 51,
   "metadata": {},
   "outputs": [
    {
     "data": {
      "image/png": "[encoded data removed]",
      "text/plain": [
       "Plot with title \"HS (>24)\""
      ]
     },
     "metadata": {},
     "output_type": "display_data"
    }
   ],
   "source": [
    "plot(Cancer$PctHS25_Over, Cancer$deathRate, main = \"HS (>24)\")\n",
    "abline(lm(Cancer$deathRate ~ Cancer$PctHS25_Over), lty = 'dashed', lwd = 2, col = 'red')"
   ]
  },
  {
   "cell_type": "code",
   "execution_count": 52,
   "metadata": {},
   "outputs": [
    {
     "data": {
      "image/png": "[encoded data removed]",
      "text/plain": [
       "Plot with title \"Bachelor (>24)\""
      ]
     },
     "metadata": {},
     "output_type": "display_data"
    }
   ],
   "source": [
    "plot(Cancer$PctBachDeg25_Over, Cancer$deathRate, main = \"Bachelor (>24)\")\n",
    "abline(lm(Cancer$deathRate ~ Cancer$PctBachDeg25_Over), lty = 'dashed', lwd = 2, col = 'red')"
   ]
  },
  {
   "cell_type": "markdown",
   "metadata": {},
   "source": [
    "## Analysis of secondary effects"
   ]
  },
  {
   "cell_type": "markdown",
   "metadata": {},
   "source": [
    "Confounding candidates (affect death rate and causes of deathRate)\n",
    "- Age (affects education, family)\n",
    "- Race (affects employment, income, education)\n",
    "- Education (affects income)"
   ]
  },
  {
   "cell_type": "markdown",
   "metadata": {},
   "source": [
    "![Causal pathway](screenshot.png)"
   ]
  },
  {
   "cell_type": "markdown",
   "metadata": {},
   "source": [
    "### Age"
   ]
  },
  {
   "cell_type": "markdown",
   "metadata": {},
   "source": [
    "**Age and education**"
   ]
  },
  {
   "cell_type": "code",
   "execution_count": 61,
   "metadata": {},
   "outputs": [
    {
     "data": {
      "text/html": [
       "<dl class=dl-horizontal>\n",
       "\t<dt>MedianAge</dt>\n",
       "\t\t<dd>1</dd>\n",
       "\t<dt>PctHS25_Over</dt>\n",
       "\t\t<dd>0.330971070361468</dd>\n",
       "\t<dt>PctBachDeg25_Over</dt>\n",
       "\t\t<dd>-0.149707470595111</dd>\n",
       "</dl>\n"
      ],
      "text/latex": [
       "\\begin{description*}\n",
       "\\item[MedianAge] 1\n",
       "\\item[PctHS25\\textbackslash{}\\_Over] 0.330971070361468\n",
       "\\item[PctBachDeg25\\textbackslash{}\\_Over] -0.149707470595111\n",
       "\\end{description*}\n"
      ],
      "text/markdown": [
       "MedianAge\n",
       ":   1PctHS25_Over\n",
       ":   0.330971070361468PctBachDeg25_Over\n",
       ":   -0.149707470595111\n",
       "\n"
      ],
      "text/plain": [
       "        MedianAge      PctHS25_Over PctBachDeg25_Over \n",
       "        1.0000000         0.3309711        -0.1497075 "
      ]
     },
     "metadata": {},
     "output_type": "display_data"
    }
   ],
   "source": [
    "vars = c('MedianAge', 'PctHS25_Over', 'PctBachDeg25_Over')\n",
    "cor(subset(Cancer, select = vars), use = \"complete.obs\")[1, ]"
   ]
  },
  {
   "cell_type": "markdown",
   "metadata": {},
   "source": [
    "Weak correlation between age and PctHs25_Over. Explore further."
   ]
  },
  {
   "cell_type": "code",
   "execution_count": 65,
   "metadata": {},
   "outputs": [
    {
     "data": {
      "image/png": "[encoded data removed]",
      "text/plain": [
       "Plot with title \"Age vs education\""
      ]
     },
     "metadata": {},
     "output_type": "display_data"
    }
   ],
   "source": [
    "plot(Cancer$PctBachDeg25_Over, Cancer$MedianAge, main = \"Age vs education\")\n",
    "abline(lm(Cancer$MedianAge ~ Cancer$PctBachDeg25_Over), lty = 'dashed', lwd = 2, col = 'red')"
   ]
  },
  {
   "cell_type": "markdown",
   "metadata": {},
   "source": [
    "**Age and family**"
   ]
  },
  {
   "cell_type": "code",
   "execution_count": 76,
   "metadata": {},
   "outputs": [
    {
     "data": {
      "text/html": [
       "<dl class=dl-horizontal>\n",
       "\t<dt>MedianAge</dt>\n",
       "\t\t<dd>1</dd>\n",
       "\t<dt>AvgHouseholdSize</dt>\n",
       "\t\t<dd>-0.614549840832707</dd>\n",
       "\t<dt>PctMarriedHouseholds</dt>\n",
       "\t\t<dd>0.202401253538842</dd>\n",
       "\t<dt>PercentMarried</dt>\n",
       "\t\t<dd>0.434479275148462</dd>\n",
       "</dl>\n"
      ],
      "text/latex": [
       "\\begin{description*}\n",
       "\\item[MedianAge] 1\n",
       "\\item[AvgHouseholdSize] -0.614549840832707\n",
       "\\item[PctMarriedHouseholds] 0.202401253538842\n",
       "\\item[PercentMarried] 0.434479275148462\n",
       "\\end{description*}\n"
      ],
      "text/markdown": [
       "MedianAge\n",
       ":   1AvgHouseholdSize\n",
       ":   -0.614549840832707PctMarriedHouseholds\n",
       ":   0.202401253538842PercentMarried\n",
       ":   0.434479275148462\n",
       "\n"
      ],
      "text/plain": [
       "           MedianAge     AvgHouseholdSize PctMarriedHouseholds \n",
       "           1.0000000           -0.6145498            0.2024013 \n",
       "      PercentMarried \n",
       "           0.4344793 "
      ]
     },
     "metadata": {},
     "output_type": "display_data"
    }
   ],
   "source": [
    "cor(subset(Cancer, select = c(\"MedianAge\", \"AvgHouseholdSize\", \"PctMarriedHouseholds\", \"PercentMarried\")), \n",
    "    use = \"complete.obs\")[1, ]"
   ]
  },
  {
   "cell_type": "markdown",
   "metadata": {},
   "source": [
    "Two worth exploring further:\n",
    "- Household size: moderate corelation\n",
    "- Percent Married: weak correlation"
   ]
  },
  {
   "cell_type": "code",
   "execution_count": 99,
   "metadata": {},
   "outputs": [
    {
     "data": {
      "image/png": "[encoded data removed]",
      "text/plain": [
       "Plot with title \"Age vs PercentMarried\""
      ]
     },
     "metadata": {},
     "output_type": "display_data"
    }
   ],
   "source": [
    "plot(Cancer$MedianAge, Cancer$PercentMarried, main = \"Age vs PercentMarried\")\n",
    "abline(lm(PercentMarried ~ MedianAge, data = Cancer), lty = 'dashed', lwd = 2, col = 'red')"
   ]
  },
  {
   "cell_type": "code",
   "execution_count": 100,
   "metadata": {},
   "outputs": [
    {
     "data": {
      "image/png": "[encoded data removed]",
      "text/plain": [
       "Plot with title \"Age vs PercentMarried\""
      ]
     },
     "metadata": {},
     "output_type": "display_data"
    }
   ],
   "source": [
    "plot(Cancer$MedianAge, Cancer$AvgHouseholdSize, main = \"Age vs PercentMarried\")\n",
    "abline(lm(AvgHouseholdSize ~ MedianAge, data = Cancer), lty = 'dashed', lwd = 2, col = 'red')"
   ]
  },
  {
   "cell_type": "markdown",
   "metadata": {},
   "source": [
    "### Race"
   ]
  },
  {
   "cell_type": "markdown",
   "metadata": {},
   "source": [
    "#### Employment"
   ]
  },
  {
   "cell_type": "markdown",
   "metadata": {},
   "source": [
    "- Focus first on white, black and asian (others is not well defined)"
   ]
  },
  {
   "cell_type": "code",
   "execution_count": 110,
   "metadata": {},
   "outputs": [
    {
     "data": {
      "text/html": [
       "<table>\n",
       "<thead><tr><th></th><th scope=col>PctEmployed16_Over</th><th scope=col>PctUnemployed16_Over</th></tr></thead>\n",
       "<tbody>\n",
       "\t<tr><th scope=row>PctWhite</th><td> 0.2697910 </td><td>-0.49628652</td></tr>\n",
       "\t<tr><th scope=row>PctBlack</th><td>-0.3365185 </td><td> 0.47467638</td></tr>\n",
       "\t<tr><th scope=row>PctAsian</th><td> 0.2339415 </td><td>-0.02061596</td></tr>\n",
       "</tbody>\n",
       "</table>\n"
      ],
      "text/latex": [
       "\\begin{tabular}{r|ll}\n",
       "  & PctEmployed16\\_Over & PctUnemployed16\\_Over\\\\\n",
       "\\hline\n",
       "\tPctWhite &  0.2697910  & -0.49628652\\\\\n",
       "\tPctBlack & -0.3365185  &  0.47467638\\\\\n",
       "\tPctAsian &  0.2339415  & -0.02061596\\\\\n",
       "\\end{tabular}\n"
      ],
      "text/markdown": [
       "\n",
       "| <!--/--> | PctEmployed16_Over | PctUnemployed16_Over | \n",
       "|---|---|---|\n",
       "| PctWhite |  0.2697910  | -0.49628652 | \n",
       "| PctBlack | -0.3365185  |  0.47467638 | \n",
       "| PctAsian |  0.2339415  | -0.02061596 | \n",
       "\n",
       "\n"
      ],
      "text/plain": [
       "         PctEmployed16_Over PctUnemployed16_Over\n",
       "PctWhite  0.2697910         -0.49628652         \n",
       "PctBlack -0.3365185          0.47467638         \n",
       "PctAsian  0.2339415         -0.02061596         "
      ]
     },
     "metadata": {},
     "output_type": "display_data"
    }
   ],
   "source": [
    "cor(subset(Cancer, select = c('PctWhite', 'PctBlack', 'PctAsian', 'PctEmployed16_Over', 'PctUnemployed16_Over')),\n",
    "    use = 'complete.obs')[1:3, 4:5]"
   ]
  },
  {
   "cell_type": "markdown",
   "metadata": {},
   "source": [
    "#### Income"
   ]
  },
  {
   "cell_type": "code",
   "execution_count": 117,
   "metadata": {},
   "outputs": [
    {
     "data": {
      "text/html": [
       "<dl class=dl-horizontal>\n",
       "\t<dt>PctWhite</dt>\n",
       "\t\t<dd>0.167225441314302</dd>\n",
       "\t<dt>PctBlack</dt>\n",
       "\t\t<dd>-0.27023161922929</dd>\n",
       "\t<dt>PctAsian</dt>\n",
       "\t\t<dd>0.425844239610875</dd>\n",
       "</dl>\n"
      ],
      "text/latex": [
       "\\begin{description*}\n",
       "\\item[PctWhite] 0.167225441314302\n",
       "\\item[PctBlack] -0.27023161922929\n",
       "\\item[PctAsian] 0.425844239610875\n",
       "\\end{description*}\n"
      ],
      "text/markdown": [
       "PctWhite\n",
       ":   0.167225441314302PctBlack\n",
       ":   -0.27023161922929PctAsian\n",
       ":   0.425844239610875\n",
       "\n"
      ],
      "text/plain": [
       "  PctWhite   PctBlack   PctAsian \n",
       " 0.1672254 -0.2702316  0.4258442 "
      ]
     },
     "metadata": {},
     "output_type": "display_data"
    }
   ],
   "source": [
    "cor(subset(Cancer, select = c('PctWhite', 'PctBlack', 'PctAsian', 'medIncome')),\n",
    "    use = 'complete.obs')[-4, 4]"
   ]
  },
  {
   "cell_type": "markdown",
   "metadata": {},
   "source": [
    "#### Education"
   ]
  },
  {
   "cell_type": "code",
   "execution_count": 118,
   "metadata": {},
   "outputs": [
    {
     "data": {
      "text/html": [
       "<ol class=list-inline>\n",
       "\t<li>'avgAnnCount'</li>\n",
       "\t<li>'medIncome'</li>\n",
       "\t<li>'popEst2015'</li>\n",
       "\t<li>'povertyPercent'</li>\n",
       "\t<li>'binnedInc'</li>\n",
       "\t<li>'MedianAge'</li>\n",
       "\t<li>'MedianAgeMale'</li>\n",
       "\t<li>'MedianAgeFemale'</li>\n",
       "\t<li>'Geography'</li>\n",
       "\t<li>'County'</li>\n",
       "\t<li>'State'</li>\n",
       "\t<li>'AvgHouseholdSize'</li>\n",
       "\t<li>'PercentMarried'</li>\n",
       "\t<li>'PctNoHS18_24'</li>\n",
       "\t<li>'PctHS18_24'</li>\n",
       "\t<li>'PctSomeCol18_24'</li>\n",
       "\t<li>'PctBachDeg18_24'</li>\n",
       "\t<li>'PctHS25_Over'</li>\n",
       "\t<li>'PctBachDeg25_Over'</li>\n",
       "\t<li>'PctEmployed16_Over'</li>\n",
       "\t<li>'PctUnemployed16_Over'</li>\n",
       "\t<li>'PctPrivateCoverage'</li>\n",
       "\t<li>'PctEmpPrivCoverage'</li>\n",
       "\t<li>'PctPublicCoverage'</li>\n",
       "\t<li>'PctWhite'</li>\n",
       "\t<li>'PctBlack'</li>\n",
       "\t<li>'PctAsian'</li>\n",
       "\t<li>'PctOtherRace'</li>\n",
       "\t<li>'PctMarriedHouseholds'</li>\n",
       "\t<li>'BirthRate'</li>\n",
       "\t<li>'deathRate'</li>\n",
       "\t<li>'incidenceRate'</li>\n",
       "\t<li>'binnedInc2'</li>\n",
       "</ol>\n"
      ],
      "text/latex": [
       "\\begin{enumerate*}\n",
       "\\item 'avgAnnCount'\n",
       "\\item 'medIncome'\n",
       "\\item 'popEst2015'\n",
       "\\item 'povertyPercent'\n",
       "\\item 'binnedInc'\n",
       "\\item 'MedianAge'\n",
       "\\item 'MedianAgeMale'\n",
       "\\item 'MedianAgeFemale'\n",
       "\\item 'Geography'\n",
       "\\item 'County'\n",
       "\\item 'State'\n",
       "\\item 'AvgHouseholdSize'\n",
       "\\item 'PercentMarried'\n",
       "\\item 'PctNoHS18\\_24'\n",
       "\\item 'PctHS18\\_24'\n",
       "\\item 'PctSomeCol18\\_24'\n",
       "\\item 'PctBachDeg18\\_24'\n",
       "\\item 'PctHS25\\_Over'\n",
       "\\item 'PctBachDeg25\\_Over'\n",
       "\\item 'PctEmployed16\\_Over'\n",
       "\\item 'PctUnemployed16\\_Over'\n",
       "\\item 'PctPrivateCoverage'\n",
       "\\item 'PctEmpPrivCoverage'\n",
       "\\item 'PctPublicCoverage'\n",
       "\\item 'PctWhite'\n",
       "\\item 'PctBlack'\n",
       "\\item 'PctAsian'\n",
       "\\item 'PctOtherRace'\n",
       "\\item 'PctMarriedHouseholds'\n",
       "\\item 'BirthRate'\n",
       "\\item 'deathRate'\n",
       "\\item 'incidenceRate'\n",
       "\\item 'binnedInc2'\n",
       "\\end{enumerate*}\n"
      ],
      "text/markdown": [
       "1. 'avgAnnCount'\n",
       "2. 'medIncome'\n",
       "3. 'popEst2015'\n",
       "4. 'povertyPercent'\n",
       "5. 'binnedInc'\n",
       "6. 'MedianAge'\n",
       "7. 'MedianAgeMale'\n",
       "8. 'MedianAgeFemale'\n",
       "9. 'Geography'\n",
       "10. 'County'\n",
       "11. 'State'\n",
       "12. 'AvgHouseholdSize'\n",
       "13. 'PercentMarried'\n",
       "14. 'PctNoHS18_24'\n",
       "15. 'PctHS18_24'\n",
       "16. 'PctSomeCol18_24'\n",
       "17. 'PctBachDeg18_24'\n",
       "18. 'PctHS25_Over'\n",
       "19. 'PctBachDeg25_Over'\n",
       "20. 'PctEmployed16_Over'\n",
       "21. 'PctUnemployed16_Over'\n",
       "22. 'PctPrivateCoverage'\n",
       "23. 'PctEmpPrivCoverage'\n",
       "24. 'PctPublicCoverage'\n",
       "25. 'PctWhite'\n",
       "26. 'PctBlack'\n",
       "27. 'PctAsian'\n",
       "28. 'PctOtherRace'\n",
       "29. 'PctMarriedHouseholds'\n",
       "30. 'BirthRate'\n",
       "31. 'deathRate'\n",
       "32. 'incidenceRate'\n",
       "33. 'binnedInc2'\n",
       "\n",
       "\n"
      ],
      "text/plain": [
       " [1] \"avgAnnCount\"          \"medIncome\"            \"popEst2015\"          \n",
       " [4] \"povertyPercent\"       \"binnedInc\"            \"MedianAge\"           \n",
       " [7] \"MedianAgeMale\"        \"MedianAgeFemale\"      \"Geography\"           \n",
       "[10] \"County\"               \"State\"                \"AvgHouseholdSize\"    \n",
       "[13] \"PercentMarried\"       \"PctNoHS18_24\"         \"PctHS18_24\"          \n",
       "[16] \"PctSomeCol18_24\"      \"PctBachDeg18_24\"      \"PctHS25_Over\"        \n",
       "[19] \"PctBachDeg25_Over\"    \"PctEmployed16_Over\"   \"PctUnemployed16_Over\"\n",
       "[22] \"PctPrivateCoverage\"   \"PctEmpPrivCoverage\"   \"PctPublicCoverage\"   \n",
       "[25] \"PctWhite\"             \"PctBlack\"             \"PctAsian\"            \n",
       "[28] \"PctOtherRace\"         \"PctMarriedHouseholds\" \"BirthRate\"           \n",
       "[31] \"deathRate\"            \"incidenceRate\"        \"binnedInc2\"          "
      ]
     },
     "metadata": {},
     "output_type": "display_data"
    }
   ],
   "source": [
    "names(Cancer)"
   ]
  },
  {
   "cell_type": "code",
   "execution_count": 121,
   "metadata": {},
   "outputs": [
    {
     "data": {
      "text/html": [
       "<table>\n",
       "<thead><tr><th></th><th scope=col>PctHS25_Over</th><th scope=col>PctBachDeg25_Over</th></tr></thead>\n",
       "<tbody>\n",
       "\t<tr><th scope=row>PctWhite</th><td> 0.18804475</td><td> 0.04865228</td></tr>\n",
       "\t<tr><th scope=row>PctBlack</th><td>-0.02444526</td><td>-0.14640875</td></tr>\n",
       "\t<tr><th scope=row>PctAsian</th><td>-0.43656094</td><td> 0.43796288</td></tr>\n",
       "</tbody>\n",
       "</table>\n"
      ],
      "text/latex": [
       "\\begin{tabular}{r|ll}\n",
       "  & PctHS25\\_Over & PctBachDeg25\\_Over\\\\\n",
       "\\hline\n",
       "\tPctWhite &  0.18804475 &  0.04865228\\\\\n",
       "\tPctBlack & -0.02444526 & -0.14640875\\\\\n",
       "\tPctAsian & -0.43656094 &  0.43796288\\\\\n",
       "\\end{tabular}\n"
      ],
      "text/markdown": [
       "\n",
       "| <!--/--> | PctHS25_Over | PctBachDeg25_Over | \n",
       "|---|---|---|\n",
       "| PctWhite |  0.18804475 |  0.04865228 | \n",
       "| PctBlack | -0.02444526 | -0.14640875 | \n",
       "| PctAsian | -0.43656094 |  0.43796288 | \n",
       "\n",
       "\n"
      ],
      "text/plain": [
       "         PctHS25_Over PctBachDeg25_Over\n",
       "PctWhite  0.18804475   0.04865228      \n",
       "PctBlack -0.02444526  -0.14640875      \n",
       "PctAsian -0.43656094   0.43796288      "
      ]
     },
     "metadata": {},
     "output_type": "display_data"
    }
   ],
   "source": [
    "cor(subset(Cancer, select = c('PctWhite', 'PctBlack', 'PctAsian', 'PctHS25_Over', 'PctBachDeg25_Over')),\n",
    "    use = 'complete.obs')[1:3, 4:5]"
   ]
  },
  {
   "cell_type": "markdown",
   "metadata": {},
   "source": [
    "### Education"
   ]
  },
  {
   "cell_type": "markdown",
   "metadata": {},
   "source": [
    "#### Education"
   ]
  },
  {
   "cell_type": "code",
   "execution_count": 123,
   "metadata": {},
   "outputs": [
    {
     "data": {
      "text/html": [
       "<dl class=dl-horizontal>\n",
       "\t<dt>PctHS25_Over</dt>\n",
       "\t\t<dd>-0.471348267261995</dd>\n",
       "\t<dt>PctBachDeg25_Over</dt>\n",
       "\t\t<dd>0.704928244894586</dd>\n",
       "</dl>\n"
      ],
      "text/latex": [
       "\\begin{description*}\n",
       "\\item[PctHS25\\textbackslash{}\\_Over] -0.471348267261995\n",
       "\\item[PctBachDeg25\\textbackslash{}\\_Over] 0.704928244894586\n",
       "\\end{description*}\n"
      ],
      "text/markdown": [
       "PctHS25_Over\n",
       ":   -0.471348267261995PctBachDeg25_Over\n",
       ":   0.704928244894586\n",
       "\n"
      ],
      "text/plain": [
       "     PctHS25_Over PctBachDeg25_Over \n",
       "       -0.4713483         0.7049282 "
      ]
     },
     "metadata": {},
     "output_type": "display_data"
    }
   ],
   "source": [
    "cor(subset(Cancer, select = c('PctHS25_Over', 'PctBachDeg25_Over', 'medIncome')), use = 'complete.obs')[-3, 3]"
   ]
  }
 ],
 "metadata": {
  "kernelspec": {
   "display_name": "R",
   "language": "R",
   "name": "ir"
  },
  "language_info": {
   "codemirror_mode": "r",
   "file_extension": ".r",
   "mimetype": "text/x-r-source",
   "name": "R",
   "pygments_lexer": "r",
   "version": "3.4.3"
  }
 },
 "nbformat": 4,
 "nbformat_minor": 2
}
