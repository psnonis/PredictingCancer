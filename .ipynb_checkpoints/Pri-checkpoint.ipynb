{
 "cells": [
  {
   "cell_type": "code",
   "execution_count": 6,
   "metadata": {},
   "outputs": [],
   "source": [
    "Cancer <- read.csv('cancer.csv', header = T, as.is = T, row.names = 1)"
   ]
  },
  {
   "cell_type": "code",
   "execution_count": 22,
   "metadata": {},
   "outputs": [],
   "source": [
    "library(ggplot2)\n",
    "dev.new(width = 550, height = 330, unit = \"px\")"
   ]
  },
  {
   "cell_type": "markdown",
   "metadata": {},
   "source": [
    "## Utility Functions"
   ]
  },
  {
   "cell_type": "code",
   "execution_count": 23,
   "metadata": {},
   "outputs": [],
   "source": [
    "# Combo Box & Histogram Plots with Normal Curve and Mean/Median Lines\n",
    "\n",
    "boxHist <- function(v,name)\n",
    "{\n",
    "  vLen    <- length(v)\n",
    "  vMin    <- min(v, na.rm = T)\n",
    "  vMax    <- max(v, na.rm = T)\n",
    "  vBreaks <- seq(vMin, vMax, length.out = 10)\n",
    "  vMean   <- mean(v, na.rm = T)\n",
    "  vMedian <- median(v, na.rm = T)\n",
    "  vSD     <- sd(v)\n",
    "\n",
    "  l <- layout(mat = matrix(c(1,2),2,1, byrow=T), height = c(1,8))\n",
    "  p <- par(mar = c(0, 3.1, 1.1, 2.1))\n",
    "  b <- boxplot(v, horizontal = T, xaxt = 'n', col ='#5E4FA2', frame = F)\n",
    "  p <- par(mar=c(4, 3.1, 1.1, 2.1))\n",
    "  h <- hist(v, col = c('#9E0142','#D53E4F','#F46D43','#FDAE61','#FEE08B','#FFFFBF','#E6F598','#ABDDA4','#66C2A5','#3288BD','#5E4FA2'),\n",
    "            breaks = vBreaks,\n",
    "            main = NA,\n",
    "            xlab = name,\n",
    "            labels = T )\n",
    "\n",
    "  xFit <- seq(vMin, vMax, length.out = 100)\n",
    "  yFit <- dnorm(xFit, mean = vMean, sd = vSD)\n",
    "  yFit <- yFit * diff(h$mids[1:2]) * vLen\n",
    "  \n",
    "  x <- lines(xFit, yFit, col = 'darkblue', lwd = 3)\n",
    "  x <- abline(v = vMean, col = 'red', lwd = 3, lty = 1)\n",
    "  x <- abline(v = vMedian, col = 'red', lwd = 3, lty = 2)\n",
    "}"
   ]
  },
  {
   "cell_type": "markdown",
   "metadata": {},
   "source": [
    "### Location\n",
    "-Geography\n",
    "\n",
    "### Age\n",
    "\n",
    "- MedianAge\n",
    "- MedianAgeMale\n",
    "- MedianAgeFemale\n",
    "\n",
    "### Family\n",
    "\n",
    "- AvgHouseholdSize\n",
    "- PctMarriedHouseholds\n",
    "- PercentMarried\n",
    " \n",
    "### Ethnicity\n",
    "\n",
    "- PctWhite\n",
    "- PctBlack\n",
    "- PctAsian\n",
    "- PctOtherRace\n",
    "\n",
    "### Education\n",
    "\n",
    "- PctNoHS18_24\n",
    "- PctHS18_24\n",
    "- PctSomeCol18_24\n",
    "- PctBachDeg18_24\n",
    "- PctHS25_Over\n",
    "- PctBachDeg25_Over\n",
    "\n",
    "### Employment\n",
    "\n",
    "- PctEmployed16_Over\n",
    "- PctUnemployed16_Over\n",
    "\n",
    "### Income\n",
    "\n",
    "- medIncome\n",
    "- povertyPercent\n",
    "- binnedInc\n",
    "\n",
    "### Insurance\n",
    "\n",
    "- PctPrivateCoverage\n",
    "- PctEmpPrivCoverage\n",
    "- PctPublicCoverage\n",
    "\n",
    "### Population\n",
    "\n",
    "- popEst2015\n",
    "- avgAnnCount\n",
    "- BirthRate\n",
    "\n",
    "### Outcome\n",
    "\n",
    "- deathRate"
   ]
  },
  {
   "cell_type": "code",
   "execution_count": null,
   "metadata": {},
   "outputs": [],
   "source": [
    "0.5 % of the population develops cancer each year : median(Cancer$avgAnnCount/Cancer$popEst2015) * 100\n",
    "\n"
   ]
  },
  {
   "cell_type": "markdown",
   "metadata": {},
   "source": [
    "# Analysis of Key Relationships\n",
    "\n",
    "In this section we will explore how our outcome variable **deathEst2015** is releated to the other variables in our dataset. We will focus the analysis on the following aspects:\n",
    "- Income\n",
    "- Ethnicity\n",
    "- Education\n",
    "- Insurance\n",
    "- Support\n",
    "    - House Hold Size"
   ]
  },
  {
   "cell_type": "markdown",
   "metadata": {},
   "source": [
    "### 3.1 Income\n",
    "\n",
    "Exploring the median income and poverty variables with respect to deaths due to cancer we see a <TODO> correlation."
   ]
  },
  {
   "cell_type": "code",
   "execution_count": 26,
   "metadata": {},
   "outputs": [
    {
     "data": {
      "image/png": "[encoded data removed]",
      "text/plain": [
       "Plot with title \"NA\""
      ]
     },
     "metadata": {},
     "output_type": "display_data"
    }
   ],
   "source": [
    "boxHist(Cancer$medIncome, 'Median Annual Income in Dollars')"
   ]
  }
 ],
 "metadata": {
  "kernelspec": {
   "display_name": "R",
   "language": "R",
   "name": "ir"
  },
  "language_info": {
   "codemirror_mode": "r",
   "file_extension": ".r",
   "mimetype": "text/x-r-source",
   "name": "R",
   "pygments_lexer": "r",
   "version": "3.4.3"
  },
  "nteract": {
   "version": "0.11.7"
  }
 },
 "nbformat": 4,
 "nbformat_minor": 2
}
