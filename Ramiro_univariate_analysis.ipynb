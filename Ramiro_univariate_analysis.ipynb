{
 "cells": [
  {
   "cell_type": "markdown",
   "metadata": {},
   "source": [
    "## Introduction"
   ]
  },
  {
   "cell_type": "code",
   "execution_count": 2,
   "metadata": {},
   "outputs": [
    {
     "name": "stderr",
     "output_type": "stream",
     "text": [
      "\n",
      "Attaching package: 'dplyr'\n",
      "\n",
      "The following objects are masked from 'package:stats':\n",
      "\n",
      "    filter, lag\n",
      "\n",
      "The following objects are masked from 'package:base':\n",
      "\n",
      "    intersect, setdiff, setequal, union\n",
      "\n",
      "Warning message:\n",
      "\"package 'tidyr' was built under R version 3.4.4\"Warning message:\n",
      "\"package 'car' was built under R version 3.4.4\"Loading required package: carData\n",
      "Warning message:\n",
      "\"package 'carData' was built under R version 3.4.4\"\n",
      "Attaching package: 'car'\n",
      "\n",
      "The following object is masked from 'package:dplyr':\n",
      "\n",
      "    recode\n",
      "\n"
     ]
    }
   ],
   "source": [
    "library(dplyr)\n",
    "library(tidyr)\n",
    "library(car)"
   ]
  },
  {
   "cell_type": "code",
   "execution_count": 3,
   "metadata": {},
   "outputs": [],
   "source": [
    "Cancer = read.csv('cancer.csv', row.names = 1)"
   ]
  },
  {
   "cell_type": "code",
   "execution_count": 81,
   "metadata": {},
   "outputs": [
    {
     "data": {
      "text/html": [
       "<table>\n",
       "<thead><tr><th scope=col>avgAnnCount</th><th scope=col>medIncome</th><th scope=col>popEst2015</th><th scope=col>povertyPercent</th><th scope=col>binnedInc</th><th scope=col>MedianAge</th><th scope=col>MedianAgeMale</th><th scope=col>MedianAgeFemale</th><th scope=col>Geography</th><th scope=col>AvgHouseholdSize</th><th scope=col>...</th><th scope=col>PctPrivateCoverage</th><th scope=col>PctEmpPrivCoverage</th><th scope=col>PctPublicCoverage</th><th scope=col>PctWhite</th><th scope=col>PctBlack</th><th scope=col>PctAsian</th><th scope=col>PctOtherRace</th><th scope=col>PctMarriedHouseholds</th><th scope=col>BirthRate</th><th scope=col>deathRate</th></tr></thead>\n",
       "<tbody>\n",
       "\t<tr><td>1397                        </td><td>61898                       </td><td>260131                      </td><td>11.2                        </td><td>(61494.5, 125635]           </td><td>39.3                        </td><td>36.9                        </td><td>41.7                        </td><td>Kitsap County, Washington   </td><td>2.54                        </td><td>...                         </td><td>75.1                        </td><td>41.6                        </td><td>32.9                        </td><td>81.78053                    </td><td>2.5947283                   </td><td>4.8218571                   </td><td>1.8434785                   </td><td>52.85608                    </td><td>6.118831                    </td><td>164.9                       </td></tr>\n",
       "\t<tr><td> 173                        </td><td>48127                       </td><td> 43269                      </td><td>18.6                        </td><td>(48021.6, 51046.4]          </td><td>33.0                        </td><td>32.2                        </td><td>33.7                        </td><td>Kittitas County, Washington </td><td>2.34                        </td><td>...                         </td><td>70.2                        </td><td>43.6                        </td><td>31.1                        </td><td>89.22851                    </td><td>0.9691025                   </td><td>2.2462326                   </td><td>3.7413515                   </td><td>45.37250                    </td><td>4.333096                    </td><td>161.3                       </td></tr>\n",
       "\t<tr><td> 102                        </td><td>49348                       </td><td> 21026                      </td><td>14.6                        </td><td>(48021.6, 51046.4]          </td><td>45.0                        </td><td>44.0                        </td><td>45.8                        </td><td>Klickitat County, Washington</td><td>2.62                        </td><td>...                         </td><td>63.7                        </td><td>34.9                        </td><td>42.1                        </td><td>90.92219                    </td><td>0.7396734                   </td><td>0.4658982                   </td><td>2.7473583                   </td><td>54.44487                    </td><td>3.729488                    </td><td>174.7                       </td></tr>\n",
       "\t<tr><td> 427                        </td><td>44243                       </td><td> 75882                      </td><td>17.1                        </td><td>(42724.4, 45201]            </td><td>42.8                        </td><td>42.2                        </td><td>43.4                        </td><td>Lewis County, Washington    </td><td>2.52                        </td><td>...                         </td><td>58.4                        </td><td>35.0                        </td><td>45.3                        </td><td>91.74469                    </td><td>0.7826260                   </td><td>1.1613587                   </td><td>1.3626432                   </td><td>51.02151                    </td><td>4.603841                    </td><td>194.8                       </td></tr>\n",
       "\t<tr><td>  57                        </td><td>49955                       </td><td> 10321                      </td><td>12.5                        </td><td>(48021.6, 51046.4]          </td><td>48.3                        </td><td>47.8                        </td><td>48.9                        </td><td>Lincoln County, Washington  </td><td>2.34                        </td><td>...                         </td><td>61.6                        </td><td>35.1                        </td><td>44.0                        </td><td>94.10402                    </td><td>0.2701920                   </td><td>0.6658304                   </td><td>0.4921355                   </td><td>54.02746                    </td><td>6.796657                    </td><td>144.4                       </td></tr>\n",
       "\t<tr><td> 428                        </td><td>52313                       </td><td> 61023                      </td><td>15.6                        </td><td>(51046.4, 54545.6]          </td><td>45.4                        </td><td>43.5                        </td><td>48.0                        </td><td>Mason County, Washington    </td><td>2.58                        </td><td>...                         </td><td>60.0                        </td><td>32.6                        </td><td>43.2                        </td><td>84.88263                    </td><td>1.6532052                   </td><td>1.5380566                   </td><td>3.3146354                   </td><td>51.22036                    </td><td>4.964476                    </td><td>176.0                       </td></tr>\n",
       "</tbody>\n",
       "</table>\n"
      ],
      "text/latex": [
       "\\begin{tabular}{r|lllllllllllllllllllllllllllll}\n",
       " avgAnnCount & medIncome & popEst2015 & povertyPercent & binnedInc & MedianAge & MedianAgeMale & MedianAgeFemale & Geography & AvgHouseholdSize & ... & PctPrivateCoverage & PctEmpPrivCoverage & PctPublicCoverage & PctWhite & PctBlack & PctAsian & PctOtherRace & PctMarriedHouseholds & BirthRate & deathRate\\\\\n",
       "\\hline\n",
       "\t 1397                         & 61898                        & 260131                       & 11.2                         & (61494.5, 125635{]}          & 39.3                         & 36.9                         & 41.7                         & Kitsap County, Washington    & 2.54                         & ...                          & 75.1                         & 41.6                         & 32.9                         & 81.78053                     & 2.5947283                    & 4.8218571                    & 1.8434785                    & 52.85608                     & 6.118831                     & 164.9                       \\\\\n",
       "\t  173                         & 48127                        &  43269                       & 18.6                         & (48021.6, 51046.4{]}         & 33.0                         & 32.2                         & 33.7                         & Kittitas County, Washington  & 2.34                         & ...                          & 70.2                         & 43.6                         & 31.1                         & 89.22851                     & 0.9691025                    & 2.2462326                    & 3.7413515                    & 45.37250                     & 4.333096                     & 161.3                       \\\\\n",
       "\t  102                         & 49348                        &  21026                       & 14.6                         & (48021.6, 51046.4{]}         & 45.0                         & 44.0                         & 45.8                         & Klickitat County, Washington & 2.62                         & ...                          & 63.7                         & 34.9                         & 42.1                         & 90.92219                     & 0.7396734                    & 0.4658982                    & 2.7473583                    & 54.44487                     & 3.729488                     & 174.7                       \\\\\n",
       "\t  427                         & 44243                        &  75882                       & 17.1                         & (42724.4, 45201{]}           & 42.8                         & 42.2                         & 43.4                         & Lewis County, Washington     & 2.52                         & ...                          & 58.4                         & 35.0                         & 45.3                         & 91.74469                     & 0.7826260                    & 1.1613587                    & 1.3626432                    & 51.02151                     & 4.603841                     & 194.8                       \\\\\n",
       "\t   57                         & 49955                        &  10321                       & 12.5                         & (48021.6, 51046.4{]}         & 48.3                         & 47.8                         & 48.9                         & Lincoln County, Washington   & 2.34                         & ...                          & 61.6                         & 35.1                         & 44.0                         & 94.10402                     & 0.2701920                    & 0.6658304                    & 0.4921355                    & 54.02746                     & 6.796657                     & 144.4                       \\\\\n",
       "\t  428                         & 52313                        &  61023                       & 15.6                         & (51046.4, 54545.6{]}         & 45.4                         & 43.5                         & 48.0                         & Mason County, Washington     & 2.58                         & ...                          & 60.0                         & 32.6                         & 43.2                         & 84.88263                     & 1.6532052                    & 1.5380566                    & 3.3146354                    & 51.22036                     & 4.964476                     & 176.0                       \\\\\n",
       "\\end{tabular}\n"
      ],
      "text/markdown": [
       "\n",
       "avgAnnCount | medIncome | popEst2015 | povertyPercent | binnedInc | MedianAge | MedianAgeMale | MedianAgeFemale | Geography | AvgHouseholdSize | ... | PctPrivateCoverage | PctEmpPrivCoverage | PctPublicCoverage | PctWhite | PctBlack | PctAsian | PctOtherRace | PctMarriedHouseholds | BirthRate | deathRate | \n",
       "|---|---|---|---|---|---|\n",
       "| 1397                         | 61898                        | 260131                       | 11.2                         | (61494.5, 125635]            | 39.3                         | 36.9                         | 41.7                         | Kitsap County, Washington    | 2.54                         | ...                          | 75.1                         | 41.6                         | 32.9                         | 81.78053                     | 2.5947283                    | 4.8218571                    | 1.8434785                    | 52.85608                     | 6.118831                     | 164.9                        | \n",
       "|  173                         | 48127                        |  43269                       | 18.6                         | (48021.6, 51046.4]           | 33.0                         | 32.2                         | 33.7                         | Kittitas County, Washington  | 2.34                         | ...                          | 70.2                         | 43.6                         | 31.1                         | 89.22851                     | 0.9691025                    | 2.2462326                    | 3.7413515                    | 45.37250                     | 4.333096                     | 161.3                        | \n",
       "|  102                         | 49348                        |  21026                       | 14.6                         | (48021.6, 51046.4]           | 45.0                         | 44.0                         | 45.8                         | Klickitat County, Washington | 2.62                         | ...                          | 63.7                         | 34.9                         | 42.1                         | 90.92219                     | 0.7396734                    | 0.4658982                    | 2.7473583                    | 54.44487                     | 3.729488                     | 174.7                        | \n",
       "|  427                         | 44243                        |  75882                       | 17.1                         | (42724.4, 45201]             | 42.8                         | 42.2                         | 43.4                         | Lewis County, Washington     | 2.52                         | ...                          | 58.4                         | 35.0                         | 45.3                         | 91.74469                     | 0.7826260                    | 1.1613587                    | 1.3626432                    | 51.02151                     | 4.603841                     | 194.8                        | \n",
       "|   57                         | 49955                        |  10321                       | 12.5                         | (48021.6, 51046.4]           | 48.3                         | 47.8                         | 48.9                         | Lincoln County, Washington   | 2.34                         | ...                          | 61.6                         | 35.1                         | 44.0                         | 94.10402                     | 0.2701920                    | 0.6658304                    | 0.4921355                    | 54.02746                     | 6.796657                     | 144.4                        | \n",
       "|  428                         | 52313                        |  61023                       | 15.6                         | (51046.4, 54545.6]           | 45.4                         | 43.5                         | 48.0                         | Mason County, Washington     | 2.58                         | ...                          | 60.0                         | 32.6                         | 43.2                         | 84.88263                     | 1.6532052                    | 1.5380566                    | 3.3146354                    | 51.22036                     | 4.964476                     | 176.0                        | \n",
       "\n",
       "\n"
      ],
      "text/plain": [
       "  avgAnnCount medIncome popEst2015 povertyPercent binnedInc          MedianAge\n",
       "1 1397        61898     260131     11.2           (61494.5, 125635]  39.3     \n",
       "2  173        48127      43269     18.6           (48021.6, 51046.4] 33.0     \n",
       "3  102        49348      21026     14.6           (48021.6, 51046.4] 45.0     \n",
       "4  427        44243      75882     17.1           (42724.4, 45201]   42.8     \n",
       "5   57        49955      10321     12.5           (48021.6, 51046.4] 48.3     \n",
       "6  428        52313      61023     15.6           (51046.4, 54545.6] 45.4     \n",
       "  MedianAgeMale MedianAgeFemale Geography                    AvgHouseholdSize\n",
       "1 36.9          41.7            Kitsap County, Washington    2.54            \n",
       "2 32.2          33.7            Kittitas County, Washington  2.34            \n",
       "3 44.0          45.8            Klickitat County, Washington 2.62            \n",
       "4 42.2          43.4            Lewis County, Washington     2.52            \n",
       "5 47.8          48.9            Lincoln County, Washington   2.34            \n",
       "6 43.5          48.0            Mason County, Washington     2.58            \n",
       "  ... PctPrivateCoverage PctEmpPrivCoverage PctPublicCoverage PctWhite\n",
       "1 ... 75.1               41.6               32.9              81.78053\n",
       "2 ... 70.2               43.6               31.1              89.22851\n",
       "3 ... 63.7               34.9               42.1              90.92219\n",
       "4 ... 58.4               35.0               45.3              91.74469\n",
       "5 ... 61.6               35.1               44.0              94.10402\n",
       "6 ... 60.0               32.6               43.2              84.88263\n",
       "  PctBlack  PctAsian  PctOtherRace PctMarriedHouseholds BirthRate deathRate\n",
       "1 2.5947283 4.8218571 1.8434785    52.85608             6.118831  164.9    \n",
       "2 0.9691025 2.2462326 3.7413515    45.37250             4.333096  161.3    \n",
       "3 0.7396734 0.4658982 2.7473583    54.44487             3.729488  174.7    \n",
       "4 0.7826260 1.1613587 1.3626432    51.02151             4.603841  194.8    \n",
       "5 0.2701920 0.6658304 0.4921355    54.02746             6.796657  144.4    \n",
       "6 1.6532052 1.5380566 3.3146354    51.22036             4.964476  176.0    "
      ]
     },
     "metadata": {},
     "output_type": "display_data"
    }
   ],
   "source": [
    "head(Cancer)"
   ]
  },
  {
   "cell_type": "code",
   "execution_count": 4,
   "metadata": {},
   "outputs": [],
   "source": [
    "Cancer2 = Cancer %>% separate(Geography, c(\"County\", \"State\"), sep = \", \", remove = FALSE)"
   ]
  },
  {
   "cell_type": "code",
   "execution_count": 5,
   "metadata": {},
   "outputs": [],
   "source": [
    "Cancer2$MedianAge[Cancer2$MedianAge > 100] = NA"
   ]
  },
  {
   "cell_type": "code",
   "execution_count": 6,
   "metadata": {},
   "outputs": [],
   "source": [
    "Cancer2$AvgHouseholdSize[Cancer2$AvgHouseholdSize < 1] = NA"
   ]
  },
  {
   "cell_type": "code",
   "execution_count": 90,
   "metadata": {},
   "outputs": [
    {
     "name": "stdout",
     "output_type": "stream",
     "text": [
      "'data.frame':\t3047 obs. of  31 variables:\n",
      " $ avgAnnCount         : num  1397 173 102 427 57 ...\n",
      " $ medIncome           : int  61898 48127 49348 44243 49955 52313 37782 40189 42579 60397 ...\n",
      " $ popEst2015          : int  260131 43269 21026 75882 10321 61023 41516 20848 13088 843954 ...\n",
      " $ povertyPercent      : num  11.2 18.6 14.6 17.1 12.5 15.6 23.2 17.8 22.3 13.1 ...\n",
      " $ binnedInc           : Factor w/ 10 levels \"(34218.1, 37413.8]\",..: 9 6 6 4 6 7 2 2 3 8 ...\n",
      " $ MedianAge           : num  39.3 33 45 42.8 48.3 45.4 42.6 51.7 49.3 35.8 ...\n",
      " $ MedianAgeMale       : num  36.9 32.2 44 42.2 47.8 43.5 42.2 50.8 48.4 34.7 ...\n",
      " $ MedianAgeFemale     : num  41.7 33.7 45.8 43.4 48.9 48 43.5 52.5 49.8 37 ...\n",
      " $ Geography           : Factor w/ 3047 levels \"Abbeville County, South Carolina\",..: 1459 1460 1464 1589 1618 1766 2051 2112 2143 2185 ...\n",
      " $ County              : chr  \"Kitsap County\" \"Kittitas County\" \"Klickitat County\" \"Lewis County\" ...\n",
      " $ State               : chr  \"Washington\" \"Washington\" \"Washington\" \"Washington\" ...\n",
      " $ AvgHouseholdSize    : num  2.54 2.34 2.62 2.52 2.34 2.58 2.42 2.24 2.38 2.65 ...\n",
      " $ PercentMarried      : num  52.5 44.5 54.2 52.7 57.8 50.4 54.1 52.7 55.9 50 ...\n",
      " $ PctNoHS18_24        : num  11.5 6.1 24 20.2 14.9 29.9 26.1 27.3 34.7 15.6 ...\n",
      " $ PctHS18_24          : num  39.5 22.4 36.6 41.2 43 35.1 41.4 33.9 39.4 36.3 ...\n",
      " $ PctSomeCol18_24     : num  42.1 64 NA 36.1 40 NA NA 36.5 NA NA ...\n",
      " $ PctBachDeg18_24     : num  6.9 7.5 9.5 2.5 2 4.5 5.8 2.2 1.4 7.1 ...\n",
      " $ PctHS25_Over        : num  23.2 26 29 31.6 33.4 30.4 29.8 31.6 32.2 28.8 ...\n",
      " $ PctBachDeg25_Over   : num  19.6 22.7 16 9.3 15 11.9 11.9 11.3 12 16.2 ...\n",
      " $ PctEmployed16_Over  : num  51.9 55.9 45.9 48.3 48.2 44.1 51.8 40.9 39.5 56.6 ...\n",
      " $ PctUnemployed16_Over: num  8 7.8 7 12.1 4.8 12.9 8.9 8.9 10.3 9.2 ...\n",
      " $ PctPrivateCoverage  : num  75.1 70.2 63.7 58.4 61.6 60 49.5 55.8 55.5 69.9 ...\n",
      " $ PctEmpPrivCoverage  : num  41.6 43.6 34.9 35 35.1 32.6 28.3 25.9 29.9 44.4 ...\n",
      " $ PctPublicCoverage   : num  32.9 31.1 42.1 45.3 44 43.2 46.4 50.9 48.1 31.4 ...\n",
      " $ PctWhite            : num  81.8 89.2 90.9 91.7 94.1 ...\n",
      " $ PctBlack            : num  2.595 0.969 0.74 0.783 0.27 ...\n",
      " $ PctAsian            : num  4.822 2.246 0.466 1.161 0.666 ...\n",
      " $ PctOtherRace        : num  1.843 3.741 2.747 1.363 0.492 ...\n",
      " $ PctMarriedHouseholds: num  52.9 45.4 54.4 51 54 ...\n",
      " $ BirthRate           : num  6.12 4.33 3.73 4.6 6.8 ...\n",
      " $ deathRate           : num  165 161 175 195 144 ...\n"
     ]
    }
   ],
   "source": [
    "str(Cancer2)"
   ]
  },
  {
   "cell_type": "code",
   "execution_count": 16,
   "metadata": {},
   "outputs": [
    {
     "data": {
      "text/plain": [
       "       X           avgAnnCount        medIncome        popEst2015      \n",
       " Min.   :   1.0   Min.   :    6.0   Min.   : 22640   Min.   :     827  \n",
       " 1st Qu.: 762.5   1st Qu.:   76.0   1st Qu.: 38883   1st Qu.:   11684  \n",
       " Median :1524.0   Median :  171.0   Median : 45207   Median :   26643  \n",
       " Mean   :1524.0   Mean   :  606.3   Mean   : 47063   Mean   :  102637  \n",
       " 3rd Qu.:2285.5   3rd Qu.:  518.0   3rd Qu.: 52492   3rd Qu.:   68671  \n",
       " Max.   :3047.0   Max.   :38150.0   Max.   :125635   Max.   :10170292  \n",
       "                                                                       \n",
       " povertyPercent               binnedInc      MedianAge     MedianAgeMale  \n",
       " Min.   : 3.20   (45201, 48021.6]  : 306   Min.   :22.30   Min.   :22.40  \n",
       " 1st Qu.:12.15   (54545.6, 61494.5]: 306   1st Qu.:37.70   1st Qu.:36.35  \n",
       " Median :15.90   [22640, 34218.1]  : 306   Median :40.90   Median :39.60  \n",
       " Mean   :16.88   (42724.4, 45201]  : 305   Mean   :40.82   Mean   :39.57  \n",
       " 3rd Qu.:20.40   (48021.6, 51046.4]: 305   3rd Qu.:43.80   3rd Qu.:42.50  \n",
       " Max.   :47.40   (51046.4, 54545.6]: 305   Max.   :65.30   Max.   :64.70  \n",
       "                 (Other)           :1214   NA's   :30                     \n",
       " MedianAgeFemale                            Geography       County         \n",
       " Min.   :22.30   Abbeville County, South Carolina:   1   Length:3047       \n",
       " 1st Qu.:39.10   Acadia Parish, Louisiana        :   1   Class :character  \n",
       " Median :42.40   Accomack County, Virginia       :   1   Mode  :character  \n",
       " Mean   :42.15   Ada County, Idaho               :   1                     \n",
       " 3rd Qu.:45.30   Adair County, Iowa              :   1                     \n",
       " Max.   :65.70   Adair County, Kentucky          :   1                     \n",
       "                 (Other)                         :3041                     \n",
       "    State           AvgHouseholdSize PercentMarried   PctNoHS18_24  \n",
       " Length:3047        Min.   :1.86     Min.   :23.10   Min.   : 0.00  \n",
       " Class :character   1st Qu.:2.37     1st Qu.:47.75   1st Qu.:12.80  \n",
       " Mode  :character   Median :2.50     Median :52.40   Median :17.10  \n",
       "                    Mean   :2.53     Mean   :51.77   Mean   :18.22  \n",
       "                    3rd Qu.:2.64     3rd Qu.:56.40   3rd Qu.:22.70  \n",
       "                    Max.   :3.97     Max.   :72.50   Max.   :64.10  \n",
       "                    NA's   :61                                      \n",
       "   PctHS18_24   PctSomeCol18_24 PctBachDeg18_24   PctHS25_Over  \n",
       " Min.   : 0.0   Min.   : 7.10   Min.   : 0.000   Min.   : 7.50  \n",
       " 1st Qu.:29.2   1st Qu.:34.00   1st Qu.: 3.100   1st Qu.:30.40  \n",
       " Median :34.7   Median :40.40   Median : 5.400   Median :35.30  \n",
       " Mean   :35.0   Mean   :40.98   Mean   : 6.158   Mean   :34.80  \n",
       " 3rd Qu.:40.7   3rd Qu.:46.40   3rd Qu.: 8.200   3rd Qu.:39.65  \n",
       " Max.   :72.5   Max.   :79.00   Max.   :51.800   Max.   :54.80  \n",
       "                NA's   :2285                                    \n",
       " PctBachDeg25_Over PctEmployed16_Over PctUnemployed16_Over PctPrivateCoverage\n",
       " Min.   : 2.50     Min.   :17.60      Min.   : 0.400       Min.   :22.30     \n",
       " 1st Qu.: 9.40     1st Qu.:48.60      1st Qu.: 5.500       1st Qu.:57.20     \n",
       " Median :12.30     Median :54.50      Median : 7.600       Median :65.10     \n",
       " Mean   :13.28     Mean   :54.15      Mean   : 7.852       Mean   :64.35     \n",
       " 3rd Qu.:16.10     3rd Qu.:60.30      3rd Qu.: 9.700       3rd Qu.:72.10     \n",
       " Max.   :42.20     Max.   :80.10      Max.   :29.400       Max.   :92.30     \n",
       "                   NA's   :152                                               \n",
       " PctEmpPrivCoverage PctPublicCoverage    PctWhite         PctBlack      \n",
       " Min.   :13.5       Min.   :11.20     Min.   : 10.20   Min.   : 0.0000  \n",
       " 1st Qu.:34.5       1st Qu.:30.90     1st Qu.: 77.30   1st Qu.: 0.6207  \n",
       " Median :41.1       Median :36.30     Median : 90.06   Median : 2.2476  \n",
       " Mean   :41.2       Mean   :36.25     Mean   : 83.65   Mean   : 9.1080  \n",
       " 3rd Qu.:47.7       3rd Qu.:41.55     3rd Qu.: 95.45   3rd Qu.:10.5097  \n",
       " Max.   :70.7       Max.   :65.10     Max.   :100.00   Max.   :85.9478  \n",
       "                                                                        \n",
       "    PctAsian        PctOtherRace     PctMarriedHouseholds   BirthRate     \n",
       " Min.   : 0.0000   Min.   : 0.0000   Min.   :22.99        Min.   : 0.000  \n",
       " 1st Qu.: 0.2542   1st Qu.: 0.2952   1st Qu.:47.76        1st Qu.: 4.521  \n",
       " Median : 0.5498   Median : 0.8262   Median :51.67        Median : 5.381  \n",
       " Mean   : 1.2540   Mean   : 1.9835   Mean   :51.24        Mean   : 5.640  \n",
       " 3rd Qu.: 1.2210   3rd Qu.: 2.1780   3rd Qu.:55.40        3rd Qu.: 6.494  \n",
       " Max.   :42.6194   Max.   :41.9303   Max.   :78.08        Max.   :21.326  \n",
       "                                                                          \n",
       "   deathRate    \n",
       " Min.   : 59.7  \n",
       " 1st Qu.:161.2  \n",
       " Median :178.1  \n",
       " Mean   :178.7  \n",
       " 3rd Qu.:195.2  \n",
       " Max.   :362.8  \n",
       "                "
      ]
     },
     "metadata": {},
     "output_type": "display_data"
    }
   ],
   "source": [
    "summary(Cancer2)"
   ]
  },
  {
   "cell_type": "code",
   "execution_count": 18,
   "metadata": {},
   "outputs": [
    {
     "data": {
      "image/png": "[encoded data removed]",
      "text/plain": [
       "Plot with title \"\""
      ]
     },
     "metadata": {},
     "output_type": "display_data"
    }
   ],
   "source": [
    "scatterplotMatrix( ~ avgAnnCount + medIncome + povertyPercent + binnedInc + MedianAge + PctPrivateCoverage\n",
    "                  + PctEmpPrivCoverage + PctPublicCoverage + deathRate, diagonal=list(method=\"histogram\"), data = Cancer2,\n",
    "                   main = \"Scatterplot Matrix for Key Cancer Data Variables\")"
   ]
  },
  {
   "cell_type": "code",
   "execution_count": 19,
   "metadata": {
    "scrolled": true
   },
   "outputs": [
    {
     "data": {
      "text/html": [
       "<table>\n",
       "<thead><tr><th></th><th scope=col>avgAnnCount</th><th scope=col>medIncome</th><th scope=col>povertyPercent</th><th scope=col>MedianAge</th><th scope=col>PctPrivateCoverage</th><th scope=col>PctEmpPrivCoverage</th><th scope=col>PctPublicCoverage</th><th scope=col>deathRate</th></tr></thead>\n",
       "<tbody>\n",
       "\t<tr><th scope=row>avgAnnCount</th><td> 1.0000000  </td><td> 0.2692593  </td><td>-0.1354088  </td><td>-0.122427293</td><td> 0.1318993  </td><td> 0.2021700  </td><td>-0.1726959  </td><td>-0.142847096</td></tr>\n",
       "\t<tr><th scope=row>medIncome</th><td> 0.2692593  </td><td> 1.0000000  </td><td>-0.7882737  </td><td>-0.117479833</td><td> 0.7236568  </td><td> 0.7464407  </td><td>-0.7543571  </td><td>-0.427822897</td></tr>\n",
       "\t<tr><th scope=row>povertyPercent</th><td>-0.1354088  </td><td>-0.7882737  </td><td> 1.0000000  </td><td>-0.193779869</td><td>-0.8223484  </td><td>-0.6820074  </td><td> 0.6511874  </td><td> 0.429309753</td></tr>\n",
       "\t<tr><th scope=row>MedianAge</th><td>-0.1224273  </td><td>-0.1174798  </td><td>-0.1937799  </td><td> 1.000000000</td><td> 0.0691826  </td><td>-0.2299898  </td><td> 0.4268144  </td><td>-0.004288054</td></tr>\n",
       "\t<tr><th scope=row>PctPrivateCoverage</th><td> 0.1318993  </td><td> 0.7236568  </td><td>-0.8223484  </td><td> 0.069182595</td><td> 1.0000000  </td><td> 0.8263302  </td><td>-0.7207873  </td><td>-0.384792272</td></tr>\n",
       "\t<tr><th scope=row>PctEmpPrivCoverage</th><td> 0.2021700  </td><td> 0.7464407  </td><td>-0.6820074  </td><td>-0.229989800</td><td> 0.8263302  </td><td> 1.0000000  </td><td>-0.7784563  </td><td>-0.264727821</td></tr>\n",
       "\t<tr><th scope=row>PctPublicCoverage</th><td>-0.1726959  </td><td>-0.7543571  </td><td> 0.6511874  </td><td> 0.426814351</td><td>-0.7207873  </td><td>-0.7784563  </td><td> 1.0000000  </td><td> 0.404779473</td></tr>\n",
       "\t<tr><th scope=row>deathRate</th><td>-0.1428471  </td><td>-0.4278229  </td><td> 0.4293098  </td><td>-0.004288054</td><td>-0.3847923  </td><td>-0.2647278  </td><td> 0.4047795  </td><td> 1.000000000</td></tr>\n",
       "</tbody>\n",
       "</table>\n"
      ],
      "text/latex": [
       "\\begin{tabular}{r|llllllll}\n",
       "  & avgAnnCount & medIncome & povertyPercent & MedianAge & PctPrivateCoverage & PctEmpPrivCoverage & PctPublicCoverage & deathRate\\\\\n",
       "\\hline\n",
       "\tavgAnnCount &  1.0000000   &  0.2692593   & -0.1354088   & -0.122427293 &  0.1318993   &  0.2021700   & -0.1726959   & -0.142847096\\\\\n",
       "\tmedIncome &  0.2692593   &  1.0000000   & -0.7882737   & -0.117479833 &  0.7236568   &  0.7464407   & -0.7543571   & -0.427822897\\\\\n",
       "\tpovertyPercent & -0.1354088   & -0.7882737   &  1.0000000   & -0.193779869 & -0.8223484   & -0.6820074   &  0.6511874   &  0.429309753\\\\\n",
       "\tMedianAge & -0.1224273   & -0.1174798   & -0.1937799   &  1.000000000 &  0.0691826   & -0.2299898   &  0.4268144   & -0.004288054\\\\\n",
       "\tPctPrivateCoverage &  0.1318993   &  0.7236568   & -0.8223484   &  0.069182595 &  1.0000000   &  0.8263302   & -0.7207873   & -0.384792272\\\\\n",
       "\tPctEmpPrivCoverage &  0.2021700   &  0.7464407   & -0.6820074   & -0.229989800 &  0.8263302   &  1.0000000   & -0.7784563   & -0.264727821\\\\\n",
       "\tPctPublicCoverage & -0.1726959   & -0.7543571   &  0.6511874   &  0.426814351 & -0.7207873   & -0.7784563   &  1.0000000   &  0.404779473\\\\\n",
       "\tdeathRate & -0.1428471   & -0.4278229   &  0.4293098   & -0.004288054 & -0.3847923   & -0.2647278   &  0.4047795   &  1.000000000\\\\\n",
       "\\end{tabular}\n"
      ],
      "text/markdown": [
       "\n",
       "| <!--/--> | avgAnnCount | medIncome | povertyPercent | MedianAge | PctPrivateCoverage | PctEmpPrivCoverage | PctPublicCoverage | deathRate | \n",
       "|---|---|---|---|---|---|---|---|\n",
       "| avgAnnCount |  1.0000000   |  0.2692593   | -0.1354088   | -0.122427293 |  0.1318993   |  0.2021700   | -0.1726959   | -0.142847096 | \n",
       "| medIncome |  0.2692593   |  1.0000000   | -0.7882737   | -0.117479833 |  0.7236568   |  0.7464407   | -0.7543571   | -0.427822897 | \n",
       "| povertyPercent | -0.1354088   | -0.7882737   |  1.0000000   | -0.193779869 | -0.8223484   | -0.6820074   |  0.6511874   |  0.429309753 | \n",
       "| MedianAge | -0.1224273   | -0.1174798   | -0.1937799   |  1.000000000 |  0.0691826   | -0.2299898   |  0.4268144   | -0.004288054 | \n",
       "| PctPrivateCoverage |  0.1318993   |  0.7236568   | -0.8223484   |  0.069182595 |  1.0000000   |  0.8263302   | -0.7207873   | -0.384792272 | \n",
       "| PctEmpPrivCoverage |  0.2021700   |  0.7464407   | -0.6820074   | -0.229989800 |  0.8263302   |  1.0000000   | -0.7784563   | -0.264727821 | \n",
       "| PctPublicCoverage | -0.1726959   | -0.7543571   |  0.6511874   |  0.426814351 | -0.7207873   | -0.7784563   |  1.0000000   |  0.404779473 | \n",
       "| deathRate | -0.1428471   | -0.4278229   |  0.4293098   | -0.004288054 | -0.3847923   | -0.2647278   |  0.4047795   |  1.000000000 | \n",
       "\n",
       "\n"
      ],
      "text/plain": [
       "                   avgAnnCount medIncome  povertyPercent MedianAge   \n",
       "avgAnnCount         1.0000000   0.2692593 -0.1354088     -0.122427293\n",
       "medIncome           0.2692593   1.0000000 -0.7882737     -0.117479833\n",
       "povertyPercent     -0.1354088  -0.7882737  1.0000000     -0.193779869\n",
       "MedianAge          -0.1224273  -0.1174798 -0.1937799      1.000000000\n",
       "PctPrivateCoverage  0.1318993   0.7236568 -0.8223484      0.069182595\n",
       "PctEmpPrivCoverage  0.2021700   0.7464407 -0.6820074     -0.229989800\n",
       "PctPublicCoverage  -0.1726959  -0.7543571  0.6511874      0.426814351\n",
       "deathRate          -0.1428471  -0.4278229  0.4293098     -0.004288054\n",
       "                   PctPrivateCoverage PctEmpPrivCoverage PctPublicCoverage\n",
       "avgAnnCount         0.1318993          0.2021700         -0.1726959       \n",
       "medIncome           0.7236568          0.7464407         -0.7543571       \n",
       "povertyPercent     -0.8223484         -0.6820074          0.6511874       \n",
       "MedianAge           0.0691826         -0.2299898          0.4268144       \n",
       "PctPrivateCoverage  1.0000000          0.8263302         -0.7207873       \n",
       "PctEmpPrivCoverage  0.8263302          1.0000000         -0.7784563       \n",
       "PctPublicCoverage  -0.7207873         -0.7784563          1.0000000       \n",
       "deathRate          -0.3847923         -0.2647278          0.4047795       \n",
       "                   deathRate   \n",
       "avgAnnCount        -0.142847096\n",
       "medIncome          -0.427822897\n",
       "povertyPercent      0.429309753\n",
       "MedianAge          -0.004288054\n",
       "PctPrivateCoverage -0.384792272\n",
       "PctEmpPrivCoverage -0.264727821\n",
       "PctPublicCoverage   0.404779473\n",
       "deathRate           1.000000000"
      ]
     },
     "metadata": {},
     "output_type": "display_data"
    }
   ],
   "source": [
    "cor(Cancer2[ , c(\"avgAnnCount\", \"medIncome\", \"povertyPercent\", \"MedianAge\", \"PctPrivateCoverage\",\n",
    "               \"PctEmpPrivCoverage\", \"PctPublicCoverage\", \"deathRate\")], use = \"complete.obs\")"
   ]
  },
  {
   "cell_type": "markdown",
   "metadata": {},
   "source": [
    "## 2. Analysis of key variables"
   ]
  },
  {
   "cell_type": "markdown",
   "metadata": {},
   "source": [
    "### Death rate"
   ]
  },
  {
   "cell_type": "code",
   "execution_count": 20,
   "metadata": {},
   "outputs": [
    {
     "data": {
      "text/plain": [
       "   Min. 1st Qu.  Median    Mean 3rd Qu.    Max. \n",
       "   59.7   161.2   178.1   178.7   195.2   362.8 "
      ]
     },
     "metadata": {},
     "output_type": "display_data"
    }
   ],
   "source": [
    "summary(Cancer2$deathRate)"
   ]
  },
  {
   "cell_type": "code",
   "execution_count": 32,
   "metadata": {},
   "outputs": [
    {
     "data": {
      "image/png": "[encoded data removed]",
      "text/plain": [
       "Plot with title \"Histogram of Cancer2$deathRate\""
      ]
     },
     "metadata": {},
     "output_type": "display_data"
    }
   ],
   "source": [
    "hist(Cancer2$deathRate, col = 'gray')"
   ]
  },
  {
   "cell_type": "code",
   "execution_count": 33,
   "metadata": {},
   "outputs": [
    {
     "data": {
      "image/png": "[encoded data removed]",
      "text/plain": [
       "plot without title"
      ]
     },
     "metadata": {},
     "output_type": "display_data"
    }
   ],
   "source": [
    "boxplot(Cancer2$deathRate, col = \"gray\")"
   ]
  },
  {
   "cell_type": "markdown",
   "metadata": {},
   "source": [
    "Outliers"
   ]
  },
  {
   "cell_type": "code",
   "execution_count": 111,
   "metadata": {},
   "outputs": [
    {
     "name": "stdout",
     "output_type": "stream",
     "text": [
      "[1] \"Outliers: 64\"\n",
      "[1] \"Outliers (% of total): 2.10042664916311\"\n"
     ]
    }
   ],
   "source": [
    "print(paste(\"Outliers:\", length(boxplot.stats(Cancer2$deathRate)$out)))\n",
    "print(paste(\"Outliers (% of total):\", (length(boxplot.stats(Cancer2$deathRate)$out) / nrow(Cancer2)) * 100))"
   ]
  },
  {
   "cell_type": "markdown",
   "metadata": {},
   "source": [
    "### Median income"
   ]
  },
  {
   "cell_type": "code",
   "execution_count": 34,
   "metadata": {},
   "outputs": [
    {
     "data": {
      "text/plain": [
       "   Min. 1st Qu.  Median    Mean 3rd Qu.    Max. \n",
       "  22640   38883   45207   47063   52492  125635 "
      ]
     },
     "metadata": {},
     "output_type": "display_data"
    }
   ],
   "source": [
    "summary(Cancer2$medIncome)"
   ]
  },
  {
   "cell_type": "code",
   "execution_count": 38,
   "metadata": {},
   "outputs": [
    {
     "data": {
      "image/png": "[encoded data removed]",
      "text/plain": [
       "Plot with title \"Histogram of Cancer2$medIncome\""
      ]
     },
     "metadata": {},
     "output_type": "display_data"
    }
   ],
   "source": [
    "hist(Cancer2$medIncome, col = 'gray')"
   ]
  },
  {
   "cell_type": "code",
   "execution_count": 36,
   "metadata": {
    "scrolled": false
   },
   "outputs": [
    {
     "data": {
      "image/png": "[encoded data removed]",
      "text/plain": [
       "plot without title"
      ]
     },
     "metadata": {},
     "output_type": "display_data"
    }
   ],
   "source": [
    "boxplot(Cancer2$medIncome, col = \"gray\")"
   ]
  },
  {
   "cell_type": "markdown",
   "metadata": {},
   "source": [
    "Outliers"
   ]
  },
  {
   "cell_type": "code",
   "execution_count": 112,
   "metadata": {},
   "outputs": [
    {
     "name": "stdout",
     "output_type": "stream",
     "text": [
      "[1] \"Outliers: 122\"\n",
      "[1] \"Outliers (% of total): 4.00393829996718\"\n"
     ]
    }
   ],
   "source": [
    "print(paste(\"Outliers:\", length(boxplot.stats(Cancer2$medIncome)$out)))\n",
    "print(paste(\"Outliers (% of total):\", (length(boxplot.stats(Cancer2$medIncome)$out) / nrow(Cancer2)) * 100))"
   ]
  },
  {
   "cell_type": "markdown",
   "metadata": {},
   "source": [
    "Who are the outliers?"
   ]
  },
  {
   "cell_type": "code",
   "execution_count": 8,
   "metadata": {
    "scrolled": true
   },
   "outputs": [
    {
     "data": {
      "text/plain": [
       "  avgAnnCount        medIncome        popEst2015      povertyPercent  \n",
       " Min.   :   19.0   Min.   : 72972   Min.   :   5903   Min.   : 3.200  \n",
       " 1st Qu.:  268.2   1st Qu.: 76072   1st Qu.:  64922   1st Qu.: 6.100  \n",
       " Median :  969.0   Median : 80555   Median : 185460   Median : 7.200  \n",
       " Mean   : 1875.5   Mean   : 83772   Mean   : 388106   Mean   : 7.517  \n",
       " 3rd Qu.: 2562.2   3rd Qu.: 87091   3rd Qu.: 507672   3rd Qu.: 8.450  \n",
       " Max.   :12694.0   Max.   :125635   Max.   :3169776   Max.   :17.700  \n",
       "                                                                      \n",
       "              binnedInc     MedianAge     MedianAgeMale   MedianAgeFemale\n",
       " (61494.5, 125635] :122   Min.   :32.10   Min.   :31.10   Min.   :28.70  \n",
       " (34218.1, 37413.8]:  0   1st Qu.:36.60   1st Qu.:35.90   1st Qu.:37.42  \n",
       " (37413.8, 40362.7]:  0   Median :38.40   Median :37.30   Median :39.65  \n",
       " (40362.7, 42724.4]:  0   Mean   :38.81   Mean   :37.83   Mean   :39.70  \n",
       " (42724.4, 45201]  :  0   3rd Qu.:41.25   3rd Qu.:39.77   3rd Qu.:42.58  \n",
       " (45201, 48021.6]  :  0   Max.   :47.20   Max.   :46.10   Max.   :48.40  \n",
       " (Other)           :  0                                                  \n",
       "                          Geography      County             State          \n",
       " Alameda County, California    :  1   Length:122         Length:122        \n",
       " Alexandria city, Virginia     :  1   Class :character   Class :character  \n",
       " Anchorage Municipality, Alaska:  1   Mode  :character   Mode  :character  \n",
       " Anne Arundel County, Maryland :  1                                        \n",
       " Arlington County, Virginia    :  1                                        \n",
       " Bergen County, New Jersey     :  1                                        \n",
       " (Other)                       :116                                        \n",
       " AvgHouseholdSize PercentMarried   PctNoHS18_24     PctHS18_24   \n",
       " Min.   :2.090    Min.   :32.90   Min.   : 4.10   Min.   :17.50  \n",
       " 1st Qu.:2.623    1st Qu.:51.73   1st Qu.:10.90   1st Qu.:26.52  \n",
       " Median :2.735    Median :55.70   Median :12.80   Median :29.15  \n",
       " Mean   :2.739    Mean   :55.28   Mean   :13.48   Mean   :30.31  \n",
       " 3rd Qu.:2.850    3rd Qu.:59.35   3rd Qu.:15.57   3rd Qu.:33.55  \n",
       " Max.   :3.400    Max.   :69.20   Max.   :30.20   Max.   :52.00  \n",
       "                                                                 \n",
       " PctSomeCol18_24 PctBachDeg18_24   PctHS25_Over   PctBachDeg25_Over\n",
       " Min.   :34.10   Min.   : 0.900   Min.   : 7.50   Min.   : 4.70    \n",
       " 1st Qu.:41.50   1st Qu.: 9.425   1st Qu.:19.45   1st Qu.:20.82    \n",
       " Median :43.00   Median :12.550   Median :24.10   Median :24.15    \n",
       " Mean   :43.77   Mean   :13.475   Mean   :23.50   Mean   :24.57    \n",
       " 3rd Qu.:47.20   3rd Qu.:16.500   3rd Qu.:27.68   3rd Qu.:28.25    \n",
       " Max.   :54.80   Max.   :51.800   Max.   :37.50   Max.   :42.20    \n",
       " NA's   :97                                                        \n",
       " PctEmployed16_Over PctUnemployed16_Over PctPrivateCoverage PctEmpPrivCoverage\n",
       " Min.   :53.90      Min.   : 1.700       Min.   :63.30      Min.   :41.60     \n",
       " 1st Qu.:61.38      1st Qu.: 4.600       1st Qu.:75.85      1st Qu.:54.12     \n",
       " Median :64.20      Median : 5.850       Median :80.70      Median :57.95     \n",
       " Mean   :64.84      Mean   : 5.897       Mean   :79.35      Mean   :57.71     \n",
       " 3rd Qu.:68.10      3rd Qu.: 7.000       3rd Qu.:83.47      3rd Qu.:62.55     \n",
       " Max.   :76.50      Max.   :12.000       Max.   :92.30      Max.   :70.70     \n",
       " NA's   :6                                                                    \n",
       " PctPublicCoverage    PctWhite        PctBlack         PctAsian      \n",
       " Min.   :11.80     Min.   :21.73   Min.   : 0.000   Min.   : 0.2201  \n",
       " 1st Qu.:19.62     1st Qu.:72.25   1st Qu.: 1.377   1st Qu.: 1.5087  \n",
       " Median :22.75     Median :83.72   Median : 4.489   Median : 3.7051  \n",
       " Mean   :22.69     Mean   :79.88   Mean   : 6.756   Mean   : 6.1824  \n",
       " 3rd Qu.:25.60     3rd Qu.:90.29   3rd Qu.: 9.739   3rd Qu.: 6.8048  \n",
       " Max.   :36.00     Max.   :97.72   Max.   :42.246   Max.   :42.6194  \n",
       "                                                                     \n",
       "  PctOtherRace     PctMarriedHouseholds   BirthRate        deathRate    \n",
       " Min.   : 0.0328   Min.   :26.67        Min.   : 1.745   Min.   : 59.7  \n",
       " 1st Qu.: 0.7521   1st Qu.:53.69        1st Qu.: 4.456   1st Qu.:142.2  \n",
       " Median : 1.7259   Median :58.04        Median : 5.008   Median :153.3  \n",
       " Mean   : 2.6989   Mean   :57.46        Mean   : 5.171   Mean   :154.1  \n",
       " 3rd Qu.: 3.6079   3rd Qu.:62.18        3rd Qu.: 5.539   3rd Qu.:166.0  \n",
       " Max.   :12.3813   Max.   :78.08        Max.   :11.632   Max.   :256.9  \n",
       "                                                                        "
      ]
     },
     "metadata": {},
     "output_type": "display_data"
    }
   ],
   "source": [
    "summary(tail(Cancer2[order(Cancer2$medIncome), ], 122))"
   ]
  },
  {
   "cell_type": "markdown",
   "metadata": {},
   "source": [
    "### Income binned"
   ]
  },
  {
   "cell_type": "code",
   "execution_count": 44,
   "metadata": {},
   "outputs": [
    {
     "data": {
      "text/html": [
       "<dl class=dl-horizontal>\n",
       "\t<dt>(34218.1, 37413.8]</dt>\n",
       "\t\t<dd>304</dd>\n",
       "\t<dt>(37413.8, 40362.7]</dt>\n",
       "\t\t<dd>304</dd>\n",
       "\t<dt>(40362.7, 42724.4]</dt>\n",
       "\t\t<dd>304</dd>\n",
       "\t<dt>(42724.4, 45201]</dt>\n",
       "\t\t<dd>305</dd>\n",
       "\t<dt>(45201, 48021.6]</dt>\n",
       "\t\t<dd>306</dd>\n",
       "\t<dt>(48021.6, 51046.4]</dt>\n",
       "\t\t<dd>305</dd>\n",
       "\t<dt>(51046.4, 54545.6]</dt>\n",
       "\t\t<dd>305</dd>\n",
       "\t<dt>(54545.6, 61494.5]</dt>\n",
       "\t\t<dd>306</dd>\n",
       "\t<dt>(61494.5, 125635]</dt>\n",
       "\t\t<dd>302</dd>\n",
       "\t<dt>[22640, 34218.1]</dt>\n",
       "\t\t<dd>306</dd>\n",
       "</dl>\n"
      ],
      "text/latex": [
       "\\begin{description*}\n",
       "\\item[(34218.1, 37413.8\\{{]}\\}] 304\n",
       "\\item[(37413.8, 40362.7\\{{]}\\}] 304\n",
       "\\item[(40362.7, 42724.4\\{{]}\\}] 304\n",
       "\\item[(42724.4, 45201\\{{]}\\}] 305\n",
       "\\item[(45201, 48021.6\\{{]}\\}] 306\n",
       "\\item[(48021.6, 51046.4\\{{]}\\}] 305\n",
       "\\item[(51046.4, 54545.6\\{{]}\\}] 305\n",
       "\\item[(54545.6, 61494.5\\{{]}\\}] 306\n",
       "\\item[(61494.5, 125635\\{{]}\\}] 302\n",
       "\\item[\\{{[}\\}22640, 34218.1\\{{]}\\}] 306\n",
       "\\end{description*}\n"
      ],
      "text/markdown": [
       "(34218.1, 37413.8]\n",
       ":   304(37413.8, 40362.7]\n",
       ":   304(40362.7, 42724.4]\n",
       ":   304(42724.4, 45201]\n",
       ":   305(45201, 48021.6]\n",
       ":   306(48021.6, 51046.4]\n",
       ":   305(51046.4, 54545.6]\n",
       ":   305(54545.6, 61494.5]\n",
       ":   306(61494.5, 125635]\n",
       ":   302[22640, 34218.1]\n",
       ":   306\n",
       "\n"
      ],
      "text/plain": [
       "(34218.1, 37413.8] (37413.8, 40362.7] (40362.7, 42724.4]   (42724.4, 45201] \n",
       "               304                304                304                305 \n",
       "  (45201, 48021.6] (48021.6, 51046.4] (51046.4, 54545.6] (54545.6, 61494.5] \n",
       "               306                305                305                306 \n",
       " (61494.5, 125635]   [22640, 34218.1] \n",
       "               302                306 "
      ]
     },
     "metadata": {},
     "output_type": "display_data"
    }
   ],
   "source": [
    "summary(Cancer2$binnedInc)"
   ]
  },
  {
   "cell_type": "markdown",
   "metadata": {},
   "source": [
    "The size of these beans make every bin of similar size which is not useful to see its distribution, and the cutoffs make the charts hard to read."
   ]
  },
  {
   "cell_type": "markdown",
   "metadata": {},
   "source": [
    "New binned variable"
   ]
  },
  {
   "cell_type": "code",
   "execution_count": 71,
   "metadata": {},
   "outputs": [],
   "source": [
    "bins <- seq(20000, 130000, by = 10000)\n",
    "Cancer2$binnedInc2 <- cut(Cancer2$medIncome, breaks = bins)"
   ]
  },
  {
   "cell_type": "code",
   "execution_count": 68,
   "metadata": {},
   "outputs": [
    {
     "data": {
      "image/png": "[encoded data removed]",
      "text/plain": [
       "plot without title"
      ]
     },
     "metadata": {},
     "output_type": "display_data"
    }
   ],
   "source": [
    "plot(Cancer2$binnedInc2)"
   ]
  },
  {
   "cell_type": "markdown",
   "metadata": {},
   "source": [
    "### Poverty percent"
   ]
  },
  {
   "cell_type": "code",
   "execution_count": 40,
   "metadata": {},
   "outputs": [
    {
     "data": {
      "text/plain": [
       "   Min. 1st Qu.  Median    Mean 3rd Qu.    Max. \n",
       "   3.20   12.15   15.90   16.88   20.40   47.40 "
      ]
     },
     "metadata": {},
     "output_type": "display_data"
    }
   ],
   "source": [
    "summary(Cancer2$povertyPercent)"
   ]
  },
  {
   "cell_type": "code",
   "execution_count": 41,
   "metadata": {},
   "outputs": [
    {
     "data": {
      "image/png": "[encoded data removed]",
      "text/plain": [
       "Plot with title \"Histogram of Cancer2$povertyPercent\""
      ]
     },
     "metadata": {},
     "output_type": "display_data"
    }
   ],
   "source": [
    "hist(Cancer2$povertyPercent, col = 'gray')"
   ]
  },
  {
   "cell_type": "code",
   "execution_count": 42,
   "metadata": {
    "scrolled": false
   },
   "outputs": [
    {
     "data": {
      "image/png": "[encoded data removed]",
      "text/plain": [
       "plot without title"
      ]
     },
     "metadata": {},
     "output_type": "display_data"
    }
   ],
   "source": [
    "boxplot(Cancer2$povertyPercent, col = \"gray\")"
   ]
  },
  {
   "cell_type": "markdown",
   "metadata": {},
   "source": [
    "Outliers"
   ]
  },
  {
   "cell_type": "code",
   "execution_count": 113,
   "metadata": {},
   "outputs": [
    {
     "name": "stdout",
     "output_type": "stream",
     "text": [
      "[1] \"Outliers: 69\"\n",
      "[1] \"Outliers (% of total): 2.26452248112898\"\n"
     ]
    }
   ],
   "source": [
    "print(paste(\"Outliers:\", length(boxplot.stats(Cancer2$povertyPercent)$out)))\n",
    "print(paste(\"Outliers (% of total):\", (length(boxplot.stats(Cancer2$povertyPercent)$out) / nrow(Cancer2)) * 100))"
   ]
  },
  {
   "cell_type": "markdown",
   "metadata": {},
   "source": [
    "### Private coverage"
   ]
  },
  {
   "cell_type": "code",
   "execution_count": 92,
   "metadata": {},
   "outputs": [
    {
     "data": {
      "text/plain": [
       "   Min. 1st Qu.  Median    Mean 3rd Qu.    Max. \n",
       "  22.30   57.20   65.10   64.35   72.10   92.30 "
      ]
     },
     "metadata": {},
     "output_type": "display_data"
    }
   ],
   "source": [
    "summary(Cancer2$PctPrivateCoverage)"
   ]
  },
  {
   "cell_type": "code",
   "execution_count": 93,
   "metadata": {},
   "outputs": [
    {
     "data": {
      "image/png": "[encoded data removed]",
      "text/plain": [
       "Plot with title \"Histogram of Cancer2$PctPrivateCoverage\""
      ]
     },
     "metadata": {},
     "output_type": "display_data"
    }
   ],
   "source": [
    "hist(Cancer2$PctPrivateCoverage, col = 'gray')"
   ]
  },
  {
   "cell_type": "code",
   "execution_count": 94,
   "metadata": {
    "scrolled": false
   },
   "outputs": [
    {
     "data": {
      "image/png": "[encoded data removed]",
      "text/plain": [
       "plot without title"
      ]
     },
     "metadata": {},
     "output_type": "display_data"
    }
   ],
   "source": [
    "boxplot(Cancer2$PctPrivateCoverage, col = \"gray\")"
   ]
  },
  {
   "cell_type": "markdown",
   "metadata": {},
   "source": [
    "### PctEmpPrivCoverage"
   ]
  },
  {
   "cell_type": "code",
   "execution_count": 95,
   "metadata": {},
   "outputs": [
    {
     "data": {
      "text/plain": [
       "   Min. 1st Qu.  Median    Mean 3rd Qu.    Max. \n",
       "   13.5    34.5    41.1    41.2    47.7    70.7 "
      ]
     },
     "metadata": {},
     "output_type": "display_data"
    }
   ],
   "source": [
    "summary(Cancer2$PctEmpPrivCoverage)"
   ]
  },
  {
   "cell_type": "code",
   "execution_count": 96,
   "metadata": {},
   "outputs": [
    {
     "data": {
      "image/png": "[encoded data removed]",
      "text/plain": [
       "Plot with title \"Histogram of Cancer2$PctEmpPrivCoverage\""
      ]
     },
     "metadata": {},
     "output_type": "display_data"
    }
   ],
   "source": [
    "hist(Cancer2$PctEmpPrivCoverage, col = 'gray')"
   ]
  },
  {
   "cell_type": "code",
   "execution_count": 97,
   "metadata": {
    "scrolled": false
   },
   "outputs": [
    {
     "data": {
      "image/png": "[encoded data removed]",
      "text/plain": [
       "plot without title"
      ]
     },
     "metadata": {},
     "output_type": "display_data"
    }
   ],
   "source": [
    "boxplot(Cancer2$PctEmpPrivCoverage, col = \"gray\")"
   ]
  },
  {
   "cell_type": "markdown",
   "metadata": {},
   "source": [
    "Outliers"
   ]
  },
  {
   "cell_type": "code",
   "execution_count": 114,
   "metadata": {},
   "outputs": [
    {
     "name": "stdout",
     "output_type": "stream",
     "text": [
      "[1] \"Outliers: 9\"\n",
      "[1] \"Outliers (% of total): 0.295372497538563\"\n"
     ]
    }
   ],
   "source": [
    "print(paste(\"Outliers:\", length(boxplot.stats(Cancer2$PctEmpPrivCoverage)$out)))\n",
    "print(paste(\"Outliers (% of total):\", (length(boxplot.stats(Cancer2$PctEmpPrivCoverage)$out) / nrow(Cancer2)) * 100))"
   ]
  },
  {
   "cell_type": "markdown",
   "metadata": {},
   "source": [
    "### Public coverage"
   ]
  },
  {
   "cell_type": "code",
   "execution_count": 98,
   "metadata": {},
   "outputs": [
    {
     "data": {
      "text/plain": [
       "   Min. 1st Qu.  Median    Mean 3rd Qu.    Max. \n",
       "  11.20   30.90   36.30   36.25   41.55   65.10 "
      ]
     },
     "metadata": {},
     "output_type": "display_data"
    }
   ],
   "source": [
    "summary(Cancer2$PctPublicCoverage)"
   ]
  },
  {
   "cell_type": "code",
   "execution_count": 99,
   "metadata": {},
   "outputs": [
    {
     "data": {
      "image/png": "[encoded data removed]",
      "text/plain": [
       "Plot with title \"Histogram of Cancer2$PctPublicCoverage\""
      ]
     },
     "metadata": {},
     "output_type": "display_data"
    }
   ],
   "source": [
    "hist(Cancer2$PctPublicCoverage, col = 'gray')"
   ]
  },
  {
   "cell_type": "code",
   "execution_count": 100,
   "metadata": {
    "scrolled": false
   },
   "outputs": [
    {
     "data": {
      "image/png": "[encoded data removed]",
      "text/plain": [
       "plot without title"
      ]
     },
     "metadata": {},
     "output_type": "display_data"
    }
   ],
   "source": [
    "boxplot(Cancer2$PctPublicCoverage, col = \"gray\")"
   ]
  },
  {
   "cell_type": "markdown",
   "metadata": {},
   "source": [
    "Outliers"
   ]
  },
  {
   "cell_type": "code",
   "execution_count": 115,
   "metadata": {},
   "outputs": [
    {
     "name": "stdout",
     "output_type": "stream",
     "text": [
      "[1] \"Outliers: 18\"\n",
      "[1] \"Outliers (% of total): 0.590744995077125\"\n"
     ]
    }
   ],
   "source": [
    "print(paste(\"Outliers:\", length(boxplot.stats(Cancer2$PctPublicCoverage)$out)))\n",
    "print(paste(\"Outliers (% of total):\", (length(boxplot.stats(Cancer2$PctPublicCoverage)$out) / nrow(Cancer2)) * 100))"
   ]
  },
  {
   "cell_type": "markdown",
   "metadata": {},
   "source": [
    "## Analysis of secondary effects"
   ]
  },
  {
   "cell_type": "code",
   "execution_count": null,
   "metadata": {},
   "outputs": [],
   "source": []
  }
 ],
 "metadata": {
  "kernelspec": {
   "display_name": "R",
   "language": "R",
   "name": "ir"
  },
  "language_info": {
   "codemirror_mode": "r",
   "file_extension": ".r",
   "mimetype": "text/x-r-source",
   "name": "R",
   "pygments_lexer": "r",
   "version": "3.4.3"
  }
 },
 "nbformat": 4,
 "nbformat_minor": 2
}
